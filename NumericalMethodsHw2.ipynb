{
 "cells": [
  {
   "cell_type": "markdown",
   "id": "99e219b5-2e5f-4cf7-a057-4c6178eaae01",
   "metadata": {},
   "source": [
    "Numerical Methods Homework 2, due 10/6/22"
   ]
  },
  {
   "cell_type": "markdown",
   "id": "b7e6f770-9015-4542-9be7-08fbad8631b0",
   "metadata": {},
   "source": [
    "Kerry Hall"
   ]
  },
  {
   "cell_type": "code",
   "execution_count": 1,
   "id": "d70776c5-baf8-437a-bef3-f679797b5988",
   "metadata": {
    "tags": []
   },
   "outputs": [],
   "source": [
    "#Unless otherwise noted, code present was constructed by and is the explicit property of Kerry Hall. All conclusions present are property of Kerry Hall. \n",
    "import numpy as np\n",
    "from numpy import array, zeros, fabs\n",
    "import time\n",
    "from scipy import linalg"
   ]
  },
  {
   "cell_type": "code",
   "execution_count": 2,
   "id": "f581ec3e-cd23-4d8b-887d-68480b4c250e",
   "metadata": {},
   "outputs": [],
   "source": [
    "# Below function provided by Dr. Zhang and edited by Kerry Hall\n",
    "def gauss_elimination(square_mat, col):\n",
    "    n = len(col)\n",
    "    x = zeros(n, float)\n",
    "    #first loop specifys the fixed row\n",
    "    for k in range(n-1):\n",
    "        if fabs(square_mat[k,k]) < 1.0e-12:\n",
    "            for i in range(k+1, n):\n",
    "                if fabs(square_mat[i,k]) > fabs(square_mat[k,k]):\n",
    "                    square_mat[[k,i]] = square_mat[[i,k]]\n",
    "                    col[[k,i]] = col[[i,k]]\n",
    "                    break\n",
    "     #applies the elimination below the fixed row\n",
    "        for i in range(k+1,n):\n",
    "            if square_mat[i,k] == 0:continue\n",
    "            factor = square_mat[k,k]/square_mat[i,k]\n",
    "            for j in range(k,n):\n",
    "                square_mat[i,j] = square_mat[k,j] - square_mat[i,j]*factor\n",
    "                #we also calculate the b vector of each row\n",
    "            col[i] = col[k] - col[i]*factor\n",
    "    # substitution backward\n",
    "    x[n-1] = col[n-1] / square_mat[n-1, n-1]\n",
    "    for i in range(n-2, -1, -1):\n",
    "        sum_ax = 0\n",
    "        for j in range(i+1, n):\n",
    "            sum_ax += square_mat[i,j] * x[j]\n",
    "        x[i] = (col[i] - sum_ax) / square_mat[i,i]\n",
    "    return x"
   ]
  },
  {
   "cell_type": "code",
   "execution_count": 3,
   "id": "196f5981-18b1-430e-81dc-fe907e64927e",
   "metadata": {},
   "outputs": [],
   "source": [
    "# Below function provided by Dr. Zhang and edited by Kerry Hall to be recursive\n",
    "def seidel(square_mat, guess_col, col, iter_=25, count=0):\n",
    "    n = len(square_mat)\n",
    "    # for loop for 3 times as to calculate x, y , z\n",
    "    for j in range(0, n):\n",
    "        # temp variable d to store b[j]\n",
    "        d = col[j]\n",
    "\n",
    "        # to calculate respective xi, yi, zi\n",
    "        for i in range(0, n):\n",
    "            if(j != i): d-= square_mat[j][i] * guess_col[i]\n",
    "        # updating the value of our solution\n",
    "        guess_col[j] = d / square_mat[j][j]\n",
    "    # returning our updated solution\n",
    "    if count == iter_: return guess_col\n",
    "    else: return seidel(square_mat, guess_col, col, count=count+1)"
   ]
  },
  {
   "cell_type": "code",
   "execution_count": 4,
   "id": "99354731-f8e2-4dcb-ab1c-9d5d9bc0067b",
   "metadata": {},
   "outputs": [],
   "source": [
    "# Below function provided by Dr. Zhang and edited by Kerry Hall to become recursive\n",
    "def jacobian(A, b, iter_=25, count=0, x=0):\n",
    "    if count == 0: x=np.zeros_like(b)\n",
    "    for it_count in range(iter_):\n",
    "        x_new = np.zeros_like(x)\n",
    "        for i in range(A.shape[0]):\n",
    "            s1 = np.dot(A[i, :i], x[:i])\n",
    "            s2 = np.dot(A[i, i + 1:], x[i + 1:])\n",
    "            x_new[i] = (b[i] - s1 - s2) / A[i, i]\n",
    "    count += 1\n",
    "    if np.allclose(x, x_new, atol=1e-10, rtol=0.0): return x_new\n",
    "    elif count == iter_: return x_new\n",
    "    else: return jacobian(A, b, x=x_new, iter_=iter_, count=count)"
   ]
  },
  {
   "cell_type": "code",
   "execution_count": 5,
   "id": "f8d67b55-ec25-4d5f-89c5-33f07e659f64",
   "metadata": {},
   "outputs": [
    {
     "name": "stdout",
     "output_type": "stream",
     "text": [
      "\n",
      "The Gaussian Elimination yields the vector: [1. 1. 2.]\n",
      "\n",
      "The Seidel method yields the vector: [-1.5  6.  12. ]\n",
      "\n",
      "The NumPy linalg module yields the vector: [1. 1. 2.]\n",
      "\n"
     ]
    }
   ],
   "source": [
    "A1 = np.array([[2., -2., -1.,],\n",
    "              [4.,  1., -2.,],\n",
    "              [-2., 1., -1.,],])\n",
    "B1 = np.array([-2., 1., -3.])\n",
    "\n",
    "#The seidel guess below is extremely close to the right answer, yet the seidel function still returns a diverging value due to non-diagonality of the a matrix\n",
    "s1 = seidel(A1, np.array([1., 1.000000000000001, 2.]) , B1)\n",
    "ge1 = gauss_elimination(A1, B1)\n",
    "np_sol1 = np.linalg.solve(A1, B1)\n",
    "print(\"\\nThe Gaussian Elimination yields the vector: \", ge1,\n",
    "      \"\\n\\nThe Seidel method yields the vector: \", s1,\n",
    "      \"\\n\\nThe NumPy linalg module yields the vector: \", np_sol1, \"\\n\", sep=\"\")"
   ]
  },
  {
   "cell_type": "code",
   "execution_count": 6,
   "id": "b22c63c1-2a52-41df-9350-957c51bf35cf",
   "metadata": {},
   "outputs": [
    {
     "name": "stdout",
     "output_type": "stream",
     "text": [
      "\n",
      "The Gaussian Elimination solution is: [-0.08333333 -0.21428571  0.57738095]\n",
      "\n",
      "The lower triangular matrix is:\n",
      "[[ 1.          0.          0.        ]\n",
      " [ 0.125       1.          0.        ]\n",
      " [ 0.375      -0.02702703  1.        ]]\n",
      "\n",
      "The upper triangular matrix is:\n",
      "[[8.         3.         4.        ]\n",
      " [0.         4.625      1.5       ]\n",
      " [0.         0.         4.54054054]]\n",
      "\n",
      "The Jacobian method solution is: [-0.08333333 -0.21428571  0.57738095]\n",
      "\n",
      "The Seidel method solution is: [-0.08333333 -0.21428571  0.57738095]\n",
      "\n",
      "The NumPy linalg solution is: [-0.08333333 -0.21428571  0.57738095]\n",
      "\n",
      "The runtime in milliseconds for the Gaussian, Jacobian, Seidel, and NumPy methods respectively is: \n",
      "\n",
      "0.11470000026747584\n",
      "\n",
      "108.33099999581464\n",
      "\n",
      "0.9452000085730106\n",
      "\n",
      "0.11799999629147351\n"
     ]
    }
   ],
   "source": [
    "A2 = np.array([[1., 5., 2.,],\n",
    "               [3., 1., 6.,],\n",
    "               [8., 3., 4.,],])\n",
    "B2 = np.array([0., 3., 1.,])\n",
    "LU = linalg.lu(A2)\n",
    "\n",
    "#Seidel function requires diagonal matrix to be fed\n",
    "tic = time.perf_counter()\n",
    "s2 = seidel(LU[1] @ LU[2], np.array([.1,-.2,.6]), LU[0] @ (LU[0] @ B2)) #rotating twice \n",
    "toc = time.perf_counter()\n",
    "siedel_time = toc - tic\n",
    "\n",
    "tic = time.perf_counter()\n",
    "j2 = jacobian(LU[1] @ LU[2], LU[0] @ (LU[0] @ B2), iter_=55) #55 iterations required to reach the same result as seidel and gaussian methods\n",
    "toc = time.perf_counter()\n",
    "jacobian_time = toc - tic\n",
    "\n",
    "tic = time.perf_counter()\n",
    "ge2 = gauss_elimination(A2, B2)\n",
    "toc = time.perf_counter()\n",
    "gauss_time = toc - tic\n",
    "\n",
    "tic = time.perf_counter()\n",
    "np_sol2 = np.linalg.solve(A2, B2)\n",
    "toc = time.perf_counter()\n",
    "np_time = toc - tic\n",
    "\n",
    "print(\"\\nThe Gaussian Elimination solution is: \", ge2, \n",
    "      \"\\n\\nThe lower triangular matrix is:\\n\", LU[1], \n",
    "      \"\\n\\nThe upper triangular matrix is:\\n\", LU[2],\n",
    "      \"\\n\\nThe Jacobian method solution is: \", j2,\n",
    "      \"\\n\\nThe Seidel method solution is: \", s2,\n",
    "      \"\\n\\nThe NumPy linalg solution is: \", np_sol2, sep=\"\")\n",
    "print(\"\\nThe runtime in milliseconds for the Gaussian, Jacobian, Seidel, and NumPy methods respectively is: \", \n",
    "      1000*gauss_time, 1000*jacobian_time, 1000*siedel_time, 1000*np_time, sep=\"\\n\\n\")"
   ]
  },
  {
   "cell_type": "markdown",
   "id": "9042de5a-8bb7-41c8-b0b7-358debba8a47",
   "metadata": {},
   "source": [
    "Based on the results above, it is very apparent that the Seidel/Jacobian methods fail on non-diagonal matrices. This is due to the convergence assumptions made. The Jacobian method is also around 2 orders of magnitude larger than the Seidel method in terms of the computational time cost. The Jacobian method also requires many more iterations than the other methods. The Seidel method converges at an acceptable rate, but it is still almost an order of magnitude slower than Gaussian elimination. This leads me to believe that the best solution is to simply use Gaussian elimination. The Siedel and Jacobian matrices also have the added time cost of computing the permutated matrix for computation. It is very interesting to me that the NumPy solver is basically the same speed as the Gaussian elimination. This indicates to me that NumPy may be calling very similar code to the defined function for Gaussian Elimination. "
   ]
  }
 ],
 "metadata": {
  "kernelspec": {
   "display_name": "Python 3 (ipykernel)",
   "language": "python",
   "name": "python3"
  },
  "language_info": {
   "codemirror_mode": {
    "name": "ipython",
    "version": 3
   },
   "file_extension": ".py",
   "mimetype": "text/x-python",
   "name": "python",
   "nbconvert_exporter": "python",
   "pygments_lexer": "ipython3",
   "version": "3.10.6"
  }
 },
 "nbformat": 4,
 "nbformat_minor": 5
}
