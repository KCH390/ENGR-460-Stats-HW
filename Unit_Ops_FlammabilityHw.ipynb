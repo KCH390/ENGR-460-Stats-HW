{
 "cells": [
  {
   "cell_type": "code",
   "execution_count": 1,
   "id": "c3564ac2-1752-4003-ac1a-37136df53777",
   "metadata": {
    "tags": []
   },
   "outputs": [],
   "source": [
    "#All code present was constructed by and is the explicit property of Kerry Hall.\n",
    "#Code written for Unit Operations class to calculate flammability limits.\n",
    "from numpy import round, array"
   ]
  },
  {
   "cell_type": "markdown",
   "id": "9986f6f8-00c3-4a27-bb32-57ab9e1d9986",
   "metadata": {},
   "source": [
    "Problem 1: Estimate the LFL and UFL of the following four mixtures:"
   ]
  },
  {
   "cell_type": "code",
   "execution_count": 2,
   "id": "a5931d21-5018-42ff-9c2f-c83bf097c634",
   "metadata": {},
   "outputs": [],
   "source": [
    "mix_a_dict = {\n",
    "    \"Hexane\"   : 0.5,\n",
    "    \"Methane\"  : 1,\n",
    "    \"Ethylene\" : 0.5,\n",
    "    \"Air\"      : 98,\n",
    "}\n",
    "\n",
    "mix_b_dict = {\n",
    "\n",
    "    \"Ethylene\"    : 0.5,\n",
    "    \"Acetone\"     : 1,\n",
    "    \"Ethyl Ether\" : 0.5,\n",
    "    \"Air\"         : 98,\n",
    "}\n",
    "\n",
    "mix_c_dict = {\n",
    "\n",
    "    \"Hexane\"   : 1,\n",
    "    \"Methane\"  : 1,\n",
    "    \"Ethylene\" : 1,\n",
    "    \"Air\"      : 97,\n",
    "}\n",
    "\n",
    "mix_d_dict = {\n",
    "    \n",
    "    \"Ethylene\"    : 1,\n",
    "    \"Acetone\"     : 1,\n",
    "    \"Ethyl Ether\" : 1,\n",
    "    \"Air\"         : 97,\n",
    "}\n",
    "#In hindsight I probably should have used a dictionary instead of a list here\n",
    "mix_dicts = [mix_a_dict, mix_b_dict, mix_c_dict, mix_d_dict] "
   ]
  },
  {
   "cell_type": "code",
   "execution_count": 3,
   "id": "f40081f5-695b-4276-a9e3-36ad16788009",
   "metadata": {},
   "outputs": [],
   "source": [
    "#All items below are atomic makeup \n",
    "chemical_makeup = {\n",
    "    \"Hexane\" : {\n",
    "        \"C\" : 6,\n",
    "        \"H\" : 14,\n",
    "        \"O\" : 0,\n",
    "    },\n",
    "    \n",
    "    \"Methane\" : {\n",
    "        \"C\" : 1,\n",
    "        \"H\" : 4,\n",
    "        \"O\" : 0,\n",
    "    },\n",
    "    \n",
    "    \"Ethylene\" : {\n",
    "        \"C\" : 2,\n",
    "        \"H\" : 4,\n",
    "        \"O\" : 0,\n",
    "    },\n",
    "    \n",
    "    \"Acetone\" : {\n",
    "        \"C\" : 3,\n",
    "        \"H\" : 6,\n",
    "        \"O\" : 1,\n",
    "    },\n",
    "    \n",
    "    \"Ethyl Ether\" : {\n",
    "    \n",
    "        \"C\" : 4,\n",
    "        \"H\" : 10,\n",
    "        \"O\" : 1,\n",
    "    },\n",
    "}\n"
   ]
  },
  {
   "cell_type": "code",
   "execution_count": 4,
   "id": "f73804b9-571e-41c4-aceb-a1d52966d40c",
   "metadata": {},
   "outputs": [],
   "source": [
    "def flam_lim(carbons, hydrogens, oxygens, UFL=False):\n",
    "    if UFL == False : factor = 0.55\n",
    "    else: factor = 3.5\n",
    "    return factor*100/(1 + 4.76*carbons + 1.19*hydrogens - 2.38*oxygens) # equation sourced from Crowler Chapter 6 on Fires and Explosions. I do not know the full name of the book.\n",
    "\n",
    "def mix_flam_lim(frac_flam,sum_=0): #frac_flam is a list of components with their specified fractions and limits.\n",
    "    for component in frac_flam:\n",
    "        sum_ += component[0]/component[1]\n",
    "    return 1/sum_"
   ]
  },
  {
   "cell_type": "code",
   "execution_count": 5,
   "id": "d1d0d96c-4d00-4172-adeb-e53c4ef4a911",
   "metadata": {},
   "outputs": [
    {
     "name": "stdout",
     "output_type": "stream",
     "text": [
      "The calculated flammability range for mixture A is: 2.67 %V to 16.96 %V.\n",
      "\n",
      "The calculated flammability range for mixture B is: 2.59 %V to 16.49 %V.\n",
      "\n",
      "The calculated flammability range for mixture C is: 2.29 %V to 14.58 %V.\n",
      "\n",
      "The calculated flammability range for mixture D is: 2.54 %V to 16.18 %V.\n",
      "\n",
      "The table flammability range for mixture A is: 2.49 %V to 13.58 %V.\n",
      "\n",
      "The table flammability range for mixture B is: 2.4 %V to 19.53 %V\n",
      "\n",
      "The table flammability range for mixture C is: 2.16 %V to 13.3 %V.\n",
      "\n",
      "The table flammability range for mixture D is: 2.37 %V to 23.91 %V.\n"
     ]
    }
   ],
   "source": [
    "UFL = []\n",
    "LFL = []\n",
    "c = 0\n",
    "for mixture in mix_dicts:\n",
    "    LFL_space = []\n",
    "    UFL_space = []\n",
    "    UFL_tuples = []\n",
    "    LFL_tuples = []\n",
    "    for component in mixture:\n",
    "        if component == \"Air\": pass\n",
    "        else:\n",
    "            calc = chemical_makeup.get(component)\n",
    "            LFL_space.append(flam_lim(calc.get(\"C\"), calc.get(\"H\"), calc.get(\"O\")))\n",
    "            UFL_space.append(flam_lim(calc.get(\"C\"), calc.get(\"H\"), calc.get(\"O\"), True))\n",
    "    for i in range(len(LFL_space)):\n",
    "        UFL_tuples.append((mixture.get(list(mixture)[i])/(100-mixture.get(\"Air\")), UFL_space[i]))\n",
    "        LFL_tuples.append((mixture.get(list(mixture)[i])/(100-mixture.get(\"Air\")), LFL_space[i]))\n",
    "    UFL.append(mix_flam_lim(UFL_tuples))\n",
    "    LFL.append(mix_flam_lim(LFL_tuples))\n",
    "\n",
    "A_table_limit_tup = array([[(0.25,1.2), (0.5,5), (0.25,2.7)],\n",
    "                           [(0.25,7.5), (0.5,15), (0.25,36)]])\n",
    "\n",
    "B_table_limit_tup = array([[(0.25,1.9),(0.5,2.6),(0.25,2.7)],\n",
    "                           [(0.25,48),(0.5,12.8),(0.25,36)]])\n",
    "\n",
    "C_table_limit_tup = array([[(0.33,1.2), (0.33,5), (0.33,2.7)],\n",
    "                           [(0.33,7.5), (0.33,15), (0.33,36)]])\n",
    "\n",
    "D_table_limit_tup = array([[(0.33,1.9),(0.33,2.6),(0.33,2.7)],\n",
    "                           [(0.33,48),(0.33,12.8),(0.33,36)]])\n",
    "\n",
    "print(\"The calculated flammability range for mixture A is: \", round(LFL[0], 2), \" %V to \", round(UFL[0], 2), \" %V.\\n\",\n",
    "      \"\\nThe calculated flammability range for mixture B is: \", round(LFL[1], 2), \" %V to \", round(UFL[1], 2), \" %V.\\n\",\n",
    "      \"\\nThe calculated flammability range for mixture C is: \", round(LFL[2], 2), \" %V to \", round(UFL[2], 2), \" %V.\\n\",\n",
    "      \"\\nThe calculated flammability range for mixture D is: \", round(LFL[3], 2), \" %V to \", round(UFL[3], 2), \" %V.\\n\", sep=\"\")\n",
    "\n",
    "print(\"The table flammability range for mixture A is: \", round(mix_flam_lim(A_table_limit_tup[0]), 2), \n",
    "      \" %V to \", round(mix_flam_lim(A_table_limit_tup[1]), 2), \" %V.\\n\",\n",
    "      \n",
    "      \"\\nThe table flammability range for mixture B is: \", round(mix_flam_lim(B_table_limit_tup[0]), 2), \n",
    "      \" %V to \", round(mix_flam_lim(B_table_limit_tup[1]), 2), \" %V\\n\",\n",
    "      \n",
    "      \"\\nThe table flammability range for mixture C is: \", round(mix_flam_lim(C_table_limit_tup[0]), 2), \n",
    "      \" %V to \", round(mix_flam_lim(C_table_limit_tup[1]), 2), \" %V.\\n\",\n",
    "      \n",
    "      \"\\nThe table flammability range for mixture D is: \", round(mix_flam_lim(D_table_limit_tup[0]), 2), \n",
    "      \" %V to \", round(mix_flam_lim(D_table_limit_tup[1]), 2), \" %V.\", sep=\"\")"
   ]
  },
  {
   "cell_type": "markdown",
   "id": "01936205-1137-4434-835d-d0997ace8967",
   "metadata": {},
   "source": [
    "Problem 2: Estimate the LOC of propane, hydrogen, and methane using Equations 6-15 and 6-16.  Compare to table 6-3 and explain why there is a slight discrepancy."
   ]
  },
  {
   "cell_type": "code",
   "execution_count": 6,
   "id": "b78c6662-1c6b-45bf-b499-3313e67e42b6",
   "metadata": {},
   "outputs": [],
   "source": [
    "def eqn_615(LFL, z): return LFL*z\n",
    "def eqn_616(LFL, UFL, Cloc=-1.11): return 0.21*(100-UFL)*(LFL-Cloc*UFL)/(UFL*(1-Cloc))"
   ]
  },
  {
   "cell_type": "code",
   "execution_count": 7,
   "id": "0f4706e0-9065-472f-9b82-b0ef95e66b34",
   "metadata": {},
   "outputs": [
    {
     "name": "stdout",
     "output_type": "stream",
     "text": [
      "For methane, the calculated LOC values from equations 6-15 and 6-16 are 10 and 12.21\n",
      "\n",
      "For propane, the calculated LOC values from equations 6-15 and 6-16 are 10.5 and 11.99\n",
      "\n",
      "For hydrogen gas, the calculated LOC values from equations 6-15 and 6-16 are 2.0 and 2.89\n"
     ]
    }
   ],
   "source": [
    "LFLmethane = 5\n",
    "UFLmethane = 15\n",
    "LFLpropane = 2.1\n",
    "UFLpropane = 9.5\n",
    "LFLH2 = 4\n",
    "UFLH2 = 75\n",
    "print(\"For methane, the calculated LOC values from equations 6-15 and 6-16 are \", round(eqn_615(LFLmethane, 2), 2), \" and \", round(eqn_616(LFLmethane, UFLmethane), 2),\n",
    "      \"\\n\\nFor propane, the calculated LOC values from equations 6-15 and 6-16 are \", round(eqn_615(LFLpropane, 5), 2), \" and \", round(eqn_616(LFLpropane, UFLpropane), 2),\n",
    "      \"\\n\\nFor hydrogen gas, the calculated LOC values from equations 6-15 and 6-16 are \", round(eqn_615(LFLH2, 0.5), 2), \" and \", round(eqn_616(LFLH2, UFLH2), 2),sep=\"\")"
   ]
  },
  {
   "cell_type": "markdown",
   "id": "cbe4e5ab-bba7-4086-b5fe-e65d3c5f3284",
   "metadata": {},
   "source": [
    "These values are similar to ones found on the table, however, each definitely has some deviation from the table values. This is because the table values are experimental and these are calculated."
   ]
  }
 ],
 "metadata": {
  "kernelspec": {
   "display_name": "Python 3 (ipykernel)",
   "language": "python",
   "name": "python3"
  },
  "language_info": {
   "codemirror_mode": {
    "name": "ipython",
    "version": 3
   },
   "file_extension": ".py",
   "mimetype": "text/x-python",
   "name": "python",
   "nbconvert_exporter": "python",
   "pygments_lexer": "ipython3",
   "version": "3.10.6"
  }
 },
 "nbformat": 4,
 "nbformat_minor": 5
}
