{
 "cells": [
  {
   "cell_type": "code",
   "execution_count": 1,
   "id": "2cc850e5-7832-47f0-8cd4-525dd9686879",
   "metadata": {
    "tags": []
   },
   "outputs": [],
   "source": [
    "#Final conclusion and all code present was constructed by and is the explicit property of Kerry Hall.\n",
    "#Data and Equations belong to Carah Watson, Emily Rhoades, and Kerry Hall\n",
    "import matplotlib.pyplot as plt\n",
    "from scipy.optimize import curve_fit\n",
    "from pandas import DataFrame as df\n",
    "import numpy as np"
   ]
  },
  {
   "cell_type": "code",
   "execution_count": 2,
   "id": "a9916ab8-7260-4355-9fc2-eb3811d38648",
   "metadata": {},
   "outputs": [],
   "source": [
    "WATER_FLOW_XY_dict = {\n",
    "    \n",
    "    \"W4, A35, C5\" : {\n",
    "        \"x\" : [0.0001111871369, 0],\n",
    "        \"y\" : [0.1402371975, 0.1291370443],\n",
    "    },\n",
    "    \"W5, A33, C5\" : {\n",
    "        \"x\" : [0.0001132063337, 0],\n",
    "        \"y\" : [0.1466054128, 0.1332492694],\n",
    "    },\n",
    "    \"W6, A35, C5\" : {\n",
    "        \"x\" : [0.0000924622696, 0],\n",
    "        \"y\" : [0.1390042948, 0.1256406744],\n",
    "    },\n",
    "    \"W7, A31, C1.2\" : {\n",
    "        \"x\" : [0.0001564297168, 0],\n",
    "        \"y\" : [0.04145714196, 0.03628188305],\n",
    "    },\n",
    "    \"W5, A33, C0.7\" : {\n",
    "        \"x\" : [0.00001042346644, 0],\n",
    "        \"y\" : [0.0259254704, 0.02385324409],\n",
    "    },\n",
    "    \"W7, A31, C0.3\" : {\n",
    "        \"x\" : [0.00004242891281, 0],\n",
    "        \"y\" : [0.01182812213, 0.01037609756],\n",
    "    },\n",
    "    \"W5, A32, C0.3\" : {\n",
    "        \"x\" : [0.000005552750156, 0],\n",
    "        \"y\" : [0.01037609756, 0.009338842582],\n",
    "    },\n",
    "    \"W4, A32, C0.3\" : {\n",
    "        \"x\" : [0, 0.000006757743435],\n",
    "        \"y\" : [0.009338842582, 0.01037609756],\n",
    "    },\n",
    "    \"W4, A53, C10\" : {\n",
    "        \"x\" : [0, 0.0001360488303],\n",
    "        \"y\" : [0.1765575637, 0.1794262178],\n",
    "    },\n",
    "    \"W5, A55.5, C10\" : {\n",
    "        \"x\" : [0.0001308890168, 0],\n",
    "        \"y\" : [0.1777870612, 0.1726634199],\n",
    "    },\n",
    "    \"W6, A53.5, C10\" : {\n",
    "        \"x\" : [0.000141294019, 0],\n",
    "        \"y\" : [0.1814748852, 0.1728684027],\n",
    "    },\n",
    "}"
   ]
  },
  {
   "cell_type": "code",
   "execution_count": 3,
   "id": "2a248e3f-822e-4a63-bae7-6cad2dab1667",
   "metadata": {},
   "outputs": [
    {
     "name": "stdout",
     "output_type": "stream",
     "text": [
      "\n",
      "The flowrates are:  W4, A35, C5\n"
     ]
    },
    {
     "data": {
      "text/html": [
       "<div>\n",
       "<style scoped>\n",
       "    .dataframe tbody tr th:only-of-type {\n",
       "        vertical-align: middle;\n",
       "    }\n",
       "\n",
       "    .dataframe tbody tr th {\n",
       "        vertical-align: top;\n",
       "    }\n",
       "\n",
       "    .dataframe thead th {\n",
       "        text-align: right;\n",
       "    }\n",
       "</style>\n",
       "<table border=\"1\" class=\"dataframe\">\n",
       "  <thead>\n",
       "    <tr style=\"text-align: right;\">\n",
       "      <th></th>\n",
       "      <th>x</th>\n",
       "      <th>y</th>\n",
       "    </tr>\n",
       "  </thead>\n",
       "  <tbody>\n",
       "    <tr>\n",
       "      <th>0</th>\n",
       "      <td>0.000111</td>\n",
       "      <td>0.140237</td>\n",
       "    </tr>\n",
       "    <tr>\n",
       "      <th>1</th>\n",
       "      <td>0.000000</td>\n",
       "      <td>0.129137</td>\n",
       "    </tr>\n",
       "  </tbody>\n",
       "</table>\n",
       "</div>"
      ],
      "text/plain": [
       "          x         y\n",
       "0  0.000111  0.140237\n",
       "1  0.000000  0.129137"
      ]
     },
     "metadata": {},
     "output_type": "display_data"
    },
    {
     "name": "stdout",
     "output_type": "stream",
     "text": [
      "The best fit line is:  \n",
      "99.83 x + 0.1291\n",
      "\n",
      "The flowrates are:  W5, A33, C5\n"
     ]
    },
    {
     "data": {
      "text/html": [
       "<div>\n",
       "<style scoped>\n",
       "    .dataframe tbody tr th:only-of-type {\n",
       "        vertical-align: middle;\n",
       "    }\n",
       "\n",
       "    .dataframe tbody tr th {\n",
       "        vertical-align: top;\n",
       "    }\n",
       "\n",
       "    .dataframe thead th {\n",
       "        text-align: right;\n",
       "    }\n",
       "</style>\n",
       "<table border=\"1\" class=\"dataframe\">\n",
       "  <thead>\n",
       "    <tr style=\"text-align: right;\">\n",
       "      <th></th>\n",
       "      <th>x</th>\n",
       "      <th>y</th>\n",
       "    </tr>\n",
       "  </thead>\n",
       "  <tbody>\n",
       "    <tr>\n",
       "      <th>0</th>\n",
       "      <td>0.000113</td>\n",
       "      <td>0.146605</td>\n",
       "    </tr>\n",
       "    <tr>\n",
       "      <th>1</th>\n",
       "      <td>0.000000</td>\n",
       "      <td>0.133249</td>\n",
       "    </tr>\n",
       "  </tbody>\n",
       "</table>\n",
       "</div>"
      ],
      "text/plain": [
       "          x         y\n",
       "0  0.000113  0.146605\n",
       "1  0.000000  0.133249"
      ]
     },
     "metadata": {},
     "output_type": "display_data"
    },
    {
     "name": "stdout",
     "output_type": "stream",
     "text": [
      "The best fit line is:  \n",
      "118 x + 0.1332\n",
      "\n",
      "The flowrates are:  W6, A35, C5\n"
     ]
    },
    {
     "data": {
      "text/html": [
       "<div>\n",
       "<style scoped>\n",
       "    .dataframe tbody tr th:only-of-type {\n",
       "        vertical-align: middle;\n",
       "    }\n",
       "\n",
       "    .dataframe tbody tr th {\n",
       "        vertical-align: top;\n",
       "    }\n",
       "\n",
       "    .dataframe thead th {\n",
       "        text-align: right;\n",
       "    }\n",
       "</style>\n",
       "<table border=\"1\" class=\"dataframe\">\n",
       "  <thead>\n",
       "    <tr style=\"text-align: right;\">\n",
       "      <th></th>\n",
       "      <th>x</th>\n",
       "      <th>y</th>\n",
       "    </tr>\n",
       "  </thead>\n",
       "  <tbody>\n",
       "    <tr>\n",
       "      <th>0</th>\n",
       "      <td>0.000092</td>\n",
       "      <td>0.139004</td>\n",
       "    </tr>\n",
       "    <tr>\n",
       "      <th>1</th>\n",
       "      <td>0.000000</td>\n",
       "      <td>0.125641</td>\n",
       "    </tr>\n",
       "  </tbody>\n",
       "</table>\n",
       "</div>"
      ],
      "text/plain": [
       "          x         y\n",
       "0  0.000092  0.139004\n",
       "1  0.000000  0.125641"
      ]
     },
     "metadata": {},
     "output_type": "display_data"
    },
    {
     "name": "stdout",
     "output_type": "stream",
     "text": [
      "The best fit line is:  \n",
      "144.5 x + 0.1256\n",
      "\n",
      "The flowrates are:  W7, A31, C1.2\n"
     ]
    },
    {
     "data": {
      "text/html": [
       "<div>\n",
       "<style scoped>\n",
       "    .dataframe tbody tr th:only-of-type {\n",
       "        vertical-align: middle;\n",
       "    }\n",
       "\n",
       "    .dataframe tbody tr th {\n",
       "        vertical-align: top;\n",
       "    }\n",
       "\n",
       "    .dataframe thead th {\n",
       "        text-align: right;\n",
       "    }\n",
       "</style>\n",
       "<table border=\"1\" class=\"dataframe\">\n",
       "  <thead>\n",
       "    <tr style=\"text-align: right;\">\n",
       "      <th></th>\n",
       "      <th>x</th>\n",
       "      <th>y</th>\n",
       "    </tr>\n",
       "  </thead>\n",
       "  <tbody>\n",
       "    <tr>\n",
       "      <th>0</th>\n",
       "      <td>0.000156</td>\n",
       "      <td>0.041457</td>\n",
       "    </tr>\n",
       "    <tr>\n",
       "      <th>1</th>\n",
       "      <td>0.000000</td>\n",
       "      <td>0.036282</td>\n",
       "    </tr>\n",
       "  </tbody>\n",
       "</table>\n",
       "</div>"
      ],
      "text/plain": [
       "          x         y\n",
       "0  0.000156  0.041457\n",
       "1  0.000000  0.036282"
      ]
     },
     "metadata": {},
     "output_type": "display_data"
    },
    {
     "name": "stdout",
     "output_type": "stream",
     "text": [
      "The best fit line is:  \n",
      "33.08 x + 0.03628\n",
      "\n",
      "The flowrates are:  W5, A33, C0.7\n"
     ]
    },
    {
     "data": {
      "text/html": [
       "<div>\n",
       "<style scoped>\n",
       "    .dataframe tbody tr th:only-of-type {\n",
       "        vertical-align: middle;\n",
       "    }\n",
       "\n",
       "    .dataframe tbody tr th {\n",
       "        vertical-align: top;\n",
       "    }\n",
       "\n",
       "    .dataframe thead th {\n",
       "        text-align: right;\n",
       "    }\n",
       "</style>\n",
       "<table border=\"1\" class=\"dataframe\">\n",
       "  <thead>\n",
       "    <tr style=\"text-align: right;\">\n",
       "      <th></th>\n",
       "      <th>x</th>\n",
       "      <th>y</th>\n",
       "    </tr>\n",
       "  </thead>\n",
       "  <tbody>\n",
       "    <tr>\n",
       "      <th>0</th>\n",
       "      <td>0.00001</td>\n",
       "      <td>0.025925</td>\n",
       "    </tr>\n",
       "    <tr>\n",
       "      <th>1</th>\n",
       "      <td>0.00000</td>\n",
       "      <td>0.023853</td>\n",
       "    </tr>\n",
       "  </tbody>\n",
       "</table>\n",
       "</div>"
      ],
      "text/plain": [
       "         x         y\n",
       "0  0.00001  0.025925\n",
       "1  0.00000  0.023853"
      ]
     },
     "metadata": {},
     "output_type": "display_data"
    },
    {
     "name": "stdout",
     "output_type": "stream",
     "text": [
      "The best fit line is:  \n",
      "198.8 x + 0.02385\n",
      "\n",
      "The flowrates are:  W7, A31, C0.3\n"
     ]
    },
    {
     "data": {
      "text/html": [
       "<div>\n",
       "<style scoped>\n",
       "    .dataframe tbody tr th:only-of-type {\n",
       "        vertical-align: middle;\n",
       "    }\n",
       "\n",
       "    .dataframe tbody tr th {\n",
       "        vertical-align: top;\n",
       "    }\n",
       "\n",
       "    .dataframe thead th {\n",
       "        text-align: right;\n",
       "    }\n",
       "</style>\n",
       "<table border=\"1\" class=\"dataframe\">\n",
       "  <thead>\n",
       "    <tr style=\"text-align: right;\">\n",
       "      <th></th>\n",
       "      <th>x</th>\n",
       "      <th>y</th>\n",
       "    </tr>\n",
       "  </thead>\n",
       "  <tbody>\n",
       "    <tr>\n",
       "      <th>0</th>\n",
       "      <td>0.000042</td>\n",
       "      <td>0.011828</td>\n",
       "    </tr>\n",
       "    <tr>\n",
       "      <th>1</th>\n",
       "      <td>0.000000</td>\n",
       "      <td>0.010376</td>\n",
       "    </tr>\n",
       "  </tbody>\n",
       "</table>\n",
       "</div>"
      ],
      "text/plain": [
       "          x         y\n",
       "0  0.000042  0.011828\n",
       "1  0.000000  0.010376"
      ]
     },
     "metadata": {},
     "output_type": "display_data"
    },
    {
     "name": "stdout",
     "output_type": "stream",
     "text": [
      "The best fit line is:  \n",
      "34.22 x + 0.01038\n",
      "\n",
      "The flowrates are:  W5, A32, C0.3\n"
     ]
    },
    {
     "data": {
      "text/html": [
       "<div>\n",
       "<style scoped>\n",
       "    .dataframe tbody tr th:only-of-type {\n",
       "        vertical-align: middle;\n",
       "    }\n",
       "\n",
       "    .dataframe tbody tr th {\n",
       "        vertical-align: top;\n",
       "    }\n",
       "\n",
       "    .dataframe thead th {\n",
       "        text-align: right;\n",
       "    }\n",
       "</style>\n",
       "<table border=\"1\" class=\"dataframe\">\n",
       "  <thead>\n",
       "    <tr style=\"text-align: right;\">\n",
       "      <th></th>\n",
       "      <th>x</th>\n",
       "      <th>y</th>\n",
       "    </tr>\n",
       "  </thead>\n",
       "  <tbody>\n",
       "    <tr>\n",
       "      <th>0</th>\n",
       "      <td>0.000006</td>\n",
       "      <td>0.010376</td>\n",
       "    </tr>\n",
       "    <tr>\n",
       "      <th>1</th>\n",
       "      <td>0.000000</td>\n",
       "      <td>0.009339</td>\n",
       "    </tr>\n",
       "  </tbody>\n",
       "</table>\n",
       "</div>"
      ],
      "text/plain": [
       "          x         y\n",
       "0  0.000006  0.010376\n",
       "1  0.000000  0.009339"
      ]
     },
     "metadata": {},
     "output_type": "display_data"
    },
    {
     "name": "stdout",
     "output_type": "stream",
     "text": [
      "The best fit line is:  \n",
      "186.8 x + 0.009339\n",
      "\n",
      "The flowrates are:  W4, A32, C0.3\n"
     ]
    },
    {
     "data": {
      "text/html": [
       "<div>\n",
       "<style scoped>\n",
       "    .dataframe tbody tr th:only-of-type {\n",
       "        vertical-align: middle;\n",
       "    }\n",
       "\n",
       "    .dataframe tbody tr th {\n",
       "        vertical-align: top;\n",
       "    }\n",
       "\n",
       "    .dataframe thead th {\n",
       "        text-align: right;\n",
       "    }\n",
       "</style>\n",
       "<table border=\"1\" class=\"dataframe\">\n",
       "  <thead>\n",
       "    <tr style=\"text-align: right;\">\n",
       "      <th></th>\n",
       "      <th>x</th>\n",
       "      <th>y</th>\n",
       "    </tr>\n",
       "  </thead>\n",
       "  <tbody>\n",
       "    <tr>\n",
       "      <th>0</th>\n",
       "      <td>0.000000</td>\n",
       "      <td>0.009339</td>\n",
       "    </tr>\n",
       "    <tr>\n",
       "      <th>1</th>\n",
       "      <td>0.000007</td>\n",
       "      <td>0.010376</td>\n",
       "    </tr>\n",
       "  </tbody>\n",
       "</table>\n",
       "</div>"
      ],
      "text/plain": [
       "          x         y\n",
       "0  0.000000  0.009339\n",
       "1  0.000007  0.010376"
      ]
     },
     "metadata": {},
     "output_type": "display_data"
    },
    {
     "name": "stdout",
     "output_type": "stream",
     "text": [
      "The best fit line is:  \n",
      "153.5 x + 0.009339\n",
      "\n",
      "The flowrates are:  W4, A53, C10\n"
     ]
    },
    {
     "data": {
      "text/html": [
       "<div>\n",
       "<style scoped>\n",
       "    .dataframe tbody tr th:only-of-type {\n",
       "        vertical-align: middle;\n",
       "    }\n",
       "\n",
       "    .dataframe tbody tr th {\n",
       "        vertical-align: top;\n",
       "    }\n",
       "\n",
       "    .dataframe thead th {\n",
       "        text-align: right;\n",
       "    }\n",
       "</style>\n",
       "<table border=\"1\" class=\"dataframe\">\n",
       "  <thead>\n",
       "    <tr style=\"text-align: right;\">\n",
       "      <th></th>\n",
       "      <th>x</th>\n",
       "      <th>y</th>\n",
       "    </tr>\n",
       "  </thead>\n",
       "  <tbody>\n",
       "    <tr>\n",
       "      <th>0</th>\n",
       "      <td>0.000000</td>\n",
       "      <td>0.176558</td>\n",
       "    </tr>\n",
       "    <tr>\n",
       "      <th>1</th>\n",
       "      <td>0.000136</td>\n",
       "      <td>0.179426</td>\n",
       "    </tr>\n",
       "  </tbody>\n",
       "</table>\n",
       "</div>"
      ],
      "text/plain": [
       "          x         y\n",
       "0  0.000000  0.176558\n",
       "1  0.000136  0.179426"
      ]
     },
     "metadata": {},
     "output_type": "display_data"
    },
    {
     "name": "stdout",
     "output_type": "stream",
     "text": [
      "The best fit line is:  \n",
      "21.09 x + 0.1766\n",
      "\n",
      "The flowrates are:  W5, A55.5, C10\n"
     ]
    },
    {
     "data": {
      "text/html": [
       "<div>\n",
       "<style scoped>\n",
       "    .dataframe tbody tr th:only-of-type {\n",
       "        vertical-align: middle;\n",
       "    }\n",
       "\n",
       "    .dataframe tbody tr th {\n",
       "        vertical-align: top;\n",
       "    }\n",
       "\n",
       "    .dataframe thead th {\n",
       "        text-align: right;\n",
       "    }\n",
       "</style>\n",
       "<table border=\"1\" class=\"dataframe\">\n",
       "  <thead>\n",
       "    <tr style=\"text-align: right;\">\n",
       "      <th></th>\n",
       "      <th>x</th>\n",
       "      <th>y</th>\n",
       "    </tr>\n",
       "  </thead>\n",
       "  <tbody>\n",
       "    <tr>\n",
       "      <th>0</th>\n",
       "      <td>0.000131</td>\n",
       "      <td>0.177787</td>\n",
       "    </tr>\n",
       "    <tr>\n",
       "      <th>1</th>\n",
       "      <td>0.000000</td>\n",
       "      <td>0.172663</td>\n",
       "    </tr>\n",
       "  </tbody>\n",
       "</table>\n",
       "</div>"
      ],
      "text/plain": [
       "          x         y\n",
       "0  0.000131  0.177787\n",
       "1  0.000000  0.172663"
      ]
     },
     "metadata": {},
     "output_type": "display_data"
    },
    {
     "name": "stdout",
     "output_type": "stream",
     "text": [
      "The best fit line is:  \n",
      "39.14 x + 0.1727\n",
      "\n",
      "The flowrates are:  W6, A53.5, C10\n"
     ]
    },
    {
     "data": {
      "text/html": [
       "<div>\n",
       "<style scoped>\n",
       "    .dataframe tbody tr th:only-of-type {\n",
       "        vertical-align: middle;\n",
       "    }\n",
       "\n",
       "    .dataframe tbody tr th {\n",
       "        vertical-align: top;\n",
       "    }\n",
       "\n",
       "    .dataframe thead th {\n",
       "        text-align: right;\n",
       "    }\n",
       "</style>\n",
       "<table border=\"1\" class=\"dataframe\">\n",
       "  <thead>\n",
       "    <tr style=\"text-align: right;\">\n",
       "      <th></th>\n",
       "      <th>x</th>\n",
       "      <th>y</th>\n",
       "    </tr>\n",
       "  </thead>\n",
       "  <tbody>\n",
       "    <tr>\n",
       "      <th>0</th>\n",
       "      <td>0.000141</td>\n",
       "      <td>0.181475</td>\n",
       "    </tr>\n",
       "    <tr>\n",
       "      <th>1</th>\n",
       "      <td>0.000000</td>\n",
       "      <td>0.172868</td>\n",
       "    </tr>\n",
       "  </tbody>\n",
       "</table>\n",
       "</div>"
      ],
      "text/plain": [
       "          x         y\n",
       "0  0.000141  0.181475\n",
       "1  0.000000  0.172868"
      ]
     },
     "metadata": {},
     "output_type": "display_data"
    },
    {
     "name": "stdout",
     "output_type": "stream",
     "text": [
      "The best fit line is:  \n",
      "60.91 x + 0.1729\n"
     ]
    },
    {
     "data": {
      "image/png": "[encoded data removed]",
      "text/plain": [
       "<Figure size 1296x864 with 1 Axes>"
      ]
     },
     "metadata": {
      "needs_background": "light"
     },
     "output_type": "display_data"
    }
   ],
   "source": [
    "fig, ax = plt.subplots(figsize=(18,12),)\n",
    "\n",
    "color_list = [\"#9b27b0\", \"#b05727\", \"#2780b0\", \"#80b027\",\"#ffc105\",\"#05ff44\", \"#ff05c1\", \"#05c1ff\",\"#9C2C77\", \"#CD104D\", \"#E14D2A\", \"#FD841F\",\"#FF9494\"]\n",
    "\n",
    "for each, color in zip(WATER_FLOW_XY_dict, color_list): \n",
    "    print(\"\\nThe flowrates are: \", each)\n",
    "    display(df.from_dict(WATER_FLOW_XY_dict.get(each)))\n",
    "    x = WATER_FLOW_XY_dict.get(each).get(\"x\")\n",
    "    y = WATER_FLOW_XY_dict.get(each).get(\"y\")\n",
    "    line = np.polyfit(x, y, 1)\n",
    "    p = np.poly1d(line)\n",
    "    print(\"The best fit line is:\", p)\n",
    "    \n",
    "    ax.scatter(x, y, marker=\"h\", s=50, c=color, label=each,)\n",
    "    x_range = np.linspace(np.min(x)*(1-0.1), np.max(x)*(1.1), 500)\n",
    "    ax.plot(x, p(x), c=color, linewidth=1.5,label=\" \")\n",
    "\n",
    "ax.plot(np.linspace(0, 0.0001332063337, 50), 1508*np.linspace(0, 0.0001332063337, 50), label=\"*\", c=\"#000000\")    \n",
    "ax.legend()\n",
    "plt.title(\"X-Y Absorption Diagram\", fontsize=28)\n",
    "ax.set_ylabel(\"Liquid Fraction\", fontsize=26)\n",
    "ax.set_xlabel(\"Gas Fraction\", fontsize=26)\n",
    "plt.show()"
   ]
  },
  {
   "cell_type": "markdown",
   "id": "00356ce6-62b4-48fa-b0fb-2958bf75bcc8",
   "metadata": {},
   "source": [
    "The data shows that the system frequently surpasses the maximum separation. This indicates that the column could possibly be shorter and still achieve equivalent separation. The assumptions made in solving the column include: an adiabatic system, the air is exclusively a nitrogen-oxygen gas, the water is pure, the column diameter is constant, equilibrium data can be sourced exclusively from Henry's Law, air is insoluble in water, Vin = Vout, Lin = Lout, and as the column is overspecified, the air flow sensor is the most reliable sensor. "
   ]
  },
  {
   "cell_type": "markdown",
   "id": "49f374c1-945c-4823-a516-4f6707e9f962",
   "metadata": {},
   "source": [
    "The data is likely non-ideal for many reasons, but I would say that major sources of error include sensor malfunction and the assumption that air is insoluble in water. Error could have also been introduced in the analysis performed on the data. Error in analysis could also have been introduced due to the Henry's law assumption. We were likely above its lean gas range at the higher CO2 flowrates. "
   ]
  }
 ],
 "metadata": {
  "kernelspec": {
   "display_name": "Python 3 (ipykernel)",
   "language": "python",
   "name": "python3"
  },
  "language_info": {
   "codemirror_mode": {
    "name": "ipython",
    "version": 3
   },
   "file_extension": ".py",
   "mimetype": "text/x-python",
   "name": "python",
   "nbconvert_exporter": "python",
   "pygments_lexer": "ipython3",
   "version": "3.10.6"
  }
 },
 "nbformat": 4,
 "nbformat_minor": 5
}
