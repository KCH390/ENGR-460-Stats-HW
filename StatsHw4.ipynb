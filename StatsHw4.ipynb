{
 "cells": [
  {
   "cell_type": "code",
   "execution_count": 1,
   "id": "60df4e58-a415-42cf-831b-dae23cf535b9",
   "metadata": {},
   "outputs": [],
   "source": [
    "#All code present was constructed by and is the explicit property of Kerry Hall. \n",
    "#Problems and datasets sourced from \"Probability and Statistics for Engineers and Scientists\" by Walpole, Myers, Myers, and Ye, 9th ed.\n",
    "import numpy as np\n",
    "from numpy import round\n",
    "import pandas as pd\n",
    "from scipy.stats import uniform, norm"
   ]
  },
  {
   "cell_type": "markdown",
   "id": "1bd5656e-39ae-443b-8946-a4ad1c5f0116",
   "metadata": {},
   "source": [
    "Problem set: 6.4, 6.14, 6.16, 6.26, 6.46, 6.70"
   ]
  },
  {
   "cell_type": "markdown",
   "id": "14ec6796-27d5-4f7f-bcd3-b86d4a834ad8",
   "metadata": {},
   "source": [
    "6.4: A bus arrives every 10 minutes at a bus stop. It is assumed that the waiting time for a particular individual is a random variable with a continuous uniform distribution. (a) What is the probability that an individual waits more than 7 minutes, (b) What is the probability that an individual waits between 2 and 7 minutes?"
   ]
  },
  {
   "cell_type": "code",
   "execution_count": 2,
   "id": "8af32511-3f51-4847-8aa4-904e551f7cf6",
   "metadata": {},
   "outputs": [
    {
     "name": "stdout",
     "output_type": "stream",
     "text": [
      "\n",
      "The likelihood that an individual waits more than 7 minutes is: 30.0%.\n",
      "\n",
      "The likelihood that an individual waits between 2 and 7 minutes is: 50.0%.\n"
     ]
    }
   ],
   "source": [
    " #This is a bit trivial in this case but I can envision scenarios where I could use this function, its better for passing continuous variables\n",
    "probability_for_a = 1 - uniform.cdf(x=7, loc=0, scale=10)\n",
    "probability_for_b = uniform.cdf(x=7, loc=0, scale=10) - uniform.cdf(x=2, loc=0, scale=10)\n",
    "print(\"\\nThe likelihood that an individual waits more than 7 minutes is: \", round(100*probability_for_a, 2), \"%.\",\n",
    "      \"\\n\\nThe likelihood that an individual waits between 2 and 7 minutes is: \", round(100*probability_for_b, 2), \"%.\", sep=\"\")"
   ]
  },
  {
   "cell_type": "markdown",
   "id": "b6f7e746-1a83-40c4-87b7-a725f11b252d",
   "metadata": {},
   "source": [
    "6.14: The finished inner diameter of a piston ring is normally distributed with a mean of 10 centimeters and a standard deviation of 0.03 centimeters. (a) What proportion of rings will have inside diameters exceeding 10.075 centimeters, (b) what is the probability that a piston ring will have an inside diameter between 9.97 and 10.03 centimeters, (c) below what value of inside diameter will 15% of the piston rings fall?"
   ]
  },
  {
   "cell_type": "code",
   "execution_count": 3,
   "id": "fe558a26-6c8c-4092-bbca-2461385f163a",
   "metadata": {},
   "outputs": [
    {
     "name": "stdout",
     "output_type": "stream",
     "text": [
      "The proportion of rings exceeding 10.075 cm diameters are: 0.621%.\n",
      "\n",
      "The probability that the ring will will fall in the range of 9.97 to 10.03 is: 68.27%.\n",
      "\n",
      "The inside diameter that will cause 15% of the rings to fall is: 9.969 cm.\n",
      "\n"
     ]
    }
   ],
   "source": [
    "mu614 = 10\n",
    "std614 = 0.03\n",
    "za614 = (10.075 - mu614)/std614\n",
    "proportion_greater_than_1075 = 1-norm.cdf(za614)\n",
    "zbi614 = (9.97-mu614)/std614\n",
    "zbf614 = (10.03-mu614)/std614\n",
    "range_probability_for_b = norm.cdf(zbf614) - norm.cdf(zbi614)\n",
    "interpolated_z_limit = (1.03 - 1.04)*(0.15-0.1515)/(0.1492 - 0.1515) - 1.03 #values sourced from appendix A table 3 page 735\n",
    "inside_diameter_that_keeps_85percent = std614*interpolated_z_limit + mu614\n",
    "print(\"The proportion of rings exceeding 10.075 cm diameters are: \", round(100*proportion_greater_than_1075, 3), \"%.\\n\", \n",
    "      \"\\nThe probability that the ring will will fall in the range of 9.97 to 10.03 is: \", round(100*range_probability_for_b, 2), \"%.\\n\", \n",
    "      \"\\nThe inside diameter that will cause 15% of the rings to fall is: \", round(inside_diameter_that_keeps_85percent, 3), \" cm.\\n\", sep=\"\")"
   ]
  },
  {
   "cell_type": "markdown",
   "id": "b871b0ec-f82d-4fec-b45c-371a0f3dc96b",
   "metadata": {},
   "source": [
    "6.16: In the November 1990 issue of Chemical Engineering Progress, as study discussed the percent purity of oxygen from a certain supplier. Assume that the mean was 99.61 with a standard deviation of 0.08. Assume that the distribution of percent purity was approximately normal. (a) What percentage of the purity values would you expect to be between 99.5 and 99.7, (b) what purity value would you expect to exceed exactly 5% of the population?"
   ]
  },
  {
   "cell_type": "code",
   "execution_count": 4,
   "id": "626bb355-5bfa-4984-9736-6c0c7eb55d8a",
   "metadata": {},
   "outputs": [
    {
     "name": "stdout",
     "output_type": "stream",
     "text": [
      "\n",
      "The probability that the purity falls between 99.5% and 99.7% is: 78.51%.\n",
      "\n",
      "The upper 5% fall above: 99.74% purity.\n"
     ]
    }
   ],
   "source": [
    "mu = 99.61\n",
    "std = 0.08\n",
    "x = [99.7, 99.5]\n",
    "prob_a = norm.cdf((x[0]-mu)/std) - norm.cdf((x[1]-mu)/std)\n",
    "purity_of_5_percent = norm.ppf(0.95)*std+mu\n",
    "print(\"\\nThe probability that the purity falls between 99.5% and 99.7% is: \", round(prob_a*100, 2), \"%.\", sep=\"\")\n",
    "print(\"\\nThe upper 5% fall above: \", round(purity_of_5_percent, 2), \"% purity.\", sep=\"\")"
   ]
  },
  {
   "cell_type": "markdown",
   "id": "3f58e430-1acd-49a0-b4d5-c81e2472d04c",
   "metadata": {},
   "source": [
    "6.26: A process yields 10% defective items. If 100 items are randomly selected from the process, what is the probability that the number of defectives (a) exceeds 13, (b) is less than 8?"
   ]
  },
  {
   "cell_type": "code",
   "execution_count": 5,
   "id": "0fa12ec5-362e-48dd-ae5c-a9d31b659acb",
   "metadata": {},
   "outputs": [
    {
     "name": "stdout",
     "output_type": "stream",
     "text": [
      "\n",
      "The probability that the number of defectives exceeds 13 is: 12.17%.\n",
      "\n",
      "The probability that the number of defectives is less than 8 is: 20.23%.\n",
      "\n"
     ]
    }
   ],
   "source": [
    "p26 = 0.1\n",
    "n26 = 100\n",
    "mu26 = p26*n26\n",
    "std26 = np.sqrt((1-p26)*mu26)\n",
    "x26 = [13, 8]\n",
    "z_lim26a = (x26[0]+0.5-mu26)/std26\n",
    "z_lim26b = (x26[1]-0.5-mu26)/std26\n",
    "continuous_map26a = norm.sf(abs(z_lim26a))\n",
    "continuous_map26b = norm.sf(abs(z_lim26b))\n",
    "print(\"\\nThe probability that the number of defectives exceeds 13 is: \", round(100*continuous_map26a, 2), \"%.\\n\",\n",
    "      \"\\nThe probability that the number of defectives is less than 8 is: \", round(continuous_map26b*100, 2), \"%.\\n\", sep=\"\")"
   ]
  },
  {
   "cell_type": "markdown",
   "id": "1ec266cb-aaea-4d82-bc3e-7a1051b4d8c2",
   "metadata": {},
   "source": [
    "6.46: The life, in years, of a certain type of electrical switch has an exponential distribution with an average life of beta = 2. If 100 of these switches are installed in different systems, what is the probability that at most 30 fail in the first year?"
   ]
  },
  {
   "cell_type": "code",
   "execution_count": 6,
   "id": "f5b4060f-ed83-4072-a56b-52652ae544a8",
   "metadata": {
    "tags": []
   },
   "outputs": [
    {
     "name": "stdout",
     "output_type": "stream",
     "text": [
      "\n",
      "The calculated z limit is approximately: -1.811\n",
      "\n",
      "The actual probability is: 0.035072843140472654, to ~7 orders of accuracy.\n",
      "\n",
      "From table A.3, the interpolated probability is: 0.03503218619902619, to ~3 orders of accuracy.\n"
     ]
    }
   ],
   "source": [
    "def p_x_less_or_equal_to(x, beta= 2): return 1 - np.exp(-x/beta) # page 195 integration\n",
    "p_1_fails_in_1_year = p_x_less_or_equal_to(1)\n",
    "# ASSUME binomial approximation, therefore page 188 and 190\n",
    "n = 100\n",
    "mu = n*p_1_fails_in_1_year\n",
    "std = np.sqrt(mu*(1-p_1_fails_in_1_year))\n",
    "z_lim = (30+0.5-mu)/std \n",
    "print(\"\\nThe calculated z limit is approximately: \", round(z_lim, 3), sep=\"\")\n",
    "#values taken from appendix A.3 on pg 735\n",
    "continuous_map = norm.sf(abs(z_lim))\n",
    "normal_table_vals = [(-1.82, 0.0344),(-1.81, 0.0351)]\n",
    "interpolated_area = normal_table_vals[1][1] + (z_lim - normal_table_vals[1][0])*(normal_table_vals[0][1] - normal_table_vals[1][1])/(normal_table_vals[0][0] - normal_table_vals[1][0])\n",
    "print(\"\\nThe actual probability is: \", continuous_map, \", to ~7 orders of accuracy.\", sep=\"\")\n",
    "print(\"\\nFrom table A.3, the interpolated probability is: \", interpolated_area, \", to ~3 orders of accuracy.\", sep=\"\", end=\"\\n\")"
   ]
  },
  {
   "cell_type": "markdown",
   "id": "f3b37766-c200-4c37-853d-8a513b4fe3e1",
   "metadata": {},
   "source": [
    "6.70: A controlled satellite is known to have an error (distance from target) that is normally distributed with a mean of 0 and a standard deviation of 4 feet. The manufacturer of the satellite defines success as a firing in which the satellite comes within 10 feet of the target. Compute the probability that the satellite fails.  "
   ]
  },
  {
   "cell_type": "code",
   "execution_count": 7,
   "id": "58e11f2f-e592-4f94-930e-1799b0d97797",
   "metadata": {},
   "outputs": [
    {
     "name": "stdout",
     "output_type": "stream",
     "text": [
      "\n",
      "The probability of failure is: 1.24%.\n",
      "\n"
     ]
    }
   ],
   "source": [
    "mu = 0\n",
    "std = 4\n",
    "failure = 10\n",
    "p_fail = 1 - (norm.cdf(failure/std) - norm.cdf(-failure/std))\n",
    "print(\"\\nThe probability of failure is: \", round(100*p_fail, 2), \"%.\\n\", sep=\"\")"
   ]
  }
 ],
 "metadata": {
  "kernelspec": {
   "display_name": "Python 3 (ipykernel)",
   "language": "python",
   "name": "python3"
  },
  "language_info": {
   "codemirror_mode": {
    "name": "ipython",
    "version": 3
   },
   "file_extension": ".py",
   "mimetype": "text/x-python",
   "name": "python",
   "nbconvert_exporter": "python",
   "pygments_lexer": "ipython3",
   "version": "3.10.6"
  }
 },
 "nbformat": 4,
 "nbformat_minor": 5
}
