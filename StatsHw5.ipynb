{
 "cells": [
  {
   "cell_type": "code",
   "execution_count": 1,
   "id": "60df4e58-a415-42cf-831b-dae23cf535b9",
   "metadata": {},
   "outputs": [],
   "source": [
    "#All code present was constructed by and is the explicit property of Kerry Hall. \n",
    "#Problems and datasets sourced from \"Probability and Statistics for Engineers and Scientists\" by Walpole, Myers, Myers, and Ye, 9th ed.\n",
    "import numpy as np\n",
    "from scipy.stats import norm, chi2, t\n",
    "from statistics import mean, median, mode"
   ]
  },
  {
   "cell_type": "markdown",
   "id": "1bd5656e-39ae-443b-8946-a4ad1c5f0116",
   "metadata": {},
   "source": [
    "Problem set: 8.4, 8.6, 8.24, 8.28, 8.42, 8.50"
   ]
  },
  {
   "cell_type": "markdown",
   "id": "14ec6796-27d5-4f7f-bcd3-b86d4a834ad8",
   "metadata": {},
   "source": [
    "8.4: The number of tickets issued for traffic violations by 8 state troopers during the Memorial Day weekend are 5, 4, 7, 7, 6, 3, 8, 6. (a) If these values represent the number of tickets issued by a random sample of 8 state troopers from Montgomery County in Virginia, define a suitable population, (b) If the values represent the tickets issued by a random sample of 8 state troopers from South Carolina, define a suitable population."
   ]
  },
  {
   "cell_type": "markdown",
   "id": "596ab2c5-1cc8-41b4-b167-6b091aebbdaa",
   "metadata": {},
   "source": [
    "A suitable population for tickets issued by 8 troopers in Montgomery County in Virginia is the tickets issued by all troopers in Virginia. A suitable population for the tickets given by 8 troopers from South Carolina is the tickets given in the US. I will also add that population choice depends heavily on the group being studied. It would be appropriate in many different scenarios to limit the population through a boundary different than the ones I specified."
   ]
  },
  {
   "cell_type": "markdown",
   "id": "036249e0-659c-4658-82e9-7cff43d42837",
   "metadata": {},
   "source": [
    "8.6: Find the mean, median, and mode for the sample whose observations represent the number of sick days claimed on 9 federal income tax returns. Which value appears to be the best measure of the center of these data? State the reasons for your preference. "
   ]
  },
  {
   "cell_type": "code",
   "execution_count": 2,
   "id": "8af32511-3f51-4847-8aa4-904e551f7cf6",
   "metadata": {},
   "outputs": [
    {
     "name": "stdout",
     "output_type": "stream",
     "text": [
      "\n",
      "The mean is: 22.22\n",
      "\n",
      "The mode is: 8.0\n",
      "\n",
      "The median is: 14.0\n",
      "\n",
      "The mean without the 95 is: 13.125\n"
     ]
    }
   ],
   "source": [
    "#Location of 95 changed in set to facilitate its removal for taking the average without it for comparison\n",
    "set_86 = np.array([15, 7, 8, 19, 12, 8, 22, 14, 95,], float)\n",
    "print(\"\\nThe mean is: \", np.round(mean(set_86), 2), \n",
    "      \"\\n\\nThe mode is: \", mode(set_86), \n",
    "      \"\\n\\nThe median is: \", median(set_86),\n",
    "      \"\\n\\nThe mean without the 95 is: \", mean(set_86[:-1]), sep=\"\")"
   ]
  },
  {
   "cell_type": "markdown",
   "id": "f67f4823-3925-4af2-81fd-59eddfbb7071",
   "metadata": {},
   "source": [
    "The value that best represents the set is the median. The reason that this is the best value is because these numbers do not represent a continuum of values, but a number of days specific to a given employee. This results in the mean being very subject to outlier data (i.e. the 95). The mean is maligned as a result, and the removal of the 95 actually makes it come very close to the median value and be more representative of the set. The mode does not reveal anything about this dataset. It is always important to consider all three as they each describe related aspects of a dataset, but have varying importance depending on what the dataset actually indicates. "
   ]
  },
  {
   "cell_type": "markdown",
   "id": "b6f7e746-1a83-40c4-87b7-a725f11b252d",
   "metadata": {},
   "source": [
    "8.24: If a certain machine makes electrical resistors having a mean resistance of 40 ohms and a standard deviation of 2 ohms, what is the probability that a random sample of 36 of these resistors will have a combined resistance of more than 1458 ohms?"
   ]
  },
  {
   "cell_type": "code",
   "execution_count": 3,
   "id": "7d16a3f7-9581-4d0f-8f06-bfac536ab6a8",
   "metadata": {},
   "outputs": [
    {
     "name": "stdout",
     "output_type": "stream",
     "text": [
      "\n",
      "The probability that the resistors will have a combined resistance greater than 1458 ohms is: 6.68%.\n",
      "\n"
     ]
    }
   ],
   "source": [
    "n824 = 36\n",
    "mu824 = 40\n",
    "std824 = 2\n",
    "resistance_needed = 1458\n",
    "mu_rqd = resistance_needed/n824\n",
    "condition_p824 = 1 - norm.cdf((mu_rqd-mu824)*np.sqrt(n824)/std824)\n",
    "print(\"\\nThe probability that the resistors will have a combined resistance greater than 1458 ohms is: \", np.round(100*condition_p824, 2),\"%.\\n\", sep=\"\")"
   ]
  },
  {
   "cell_type": "markdown",
   "id": "d50fc4ee-6f68-4081-b5b1-6225372423e3",
   "metadata": {},
   "source": [
    "8.28: A random sample of size 25 is taken from a normal population having a mean of 80 and a standard deviation of 5. A second random sample of size 36 is taken from a different normal population having a mean of 75 and a standard deviation of 3. Find the probability that the sample mean computed from the 25 measurements will exceed the sample mean computed from the 36 measurements by at least 3.4 but less than 5.9. Assume the difference of the means to be measured to the nearest tenth."
   ]
  },
  {
   "cell_type": "code",
   "execution_count": 4,
   "id": "fe558a26-6c8c-4092-bbca-2461385f163a",
   "metadata": {},
   "outputs": [
    {
     "name": "stdout",
     "output_type": "stream",
     "text": [
      "\n",
      "The probability that the first sample's mean will exceed the second sample's mean by a value between 3.4 and 5.9 is: 71.34%.\n",
      "\n"
     ]
    }
   ],
   "source": [
    "#If I were going to make this a permanent addition to code, I would probably add more intermediate variables to make the flow better\n",
    "s1_mu = 80\n",
    "s2_mu = 75\n",
    "s1_std = 5\n",
    "s2_std = 3\n",
    "n1 = 25\n",
    "n2 = 36\n",
    "UL828 = 5.9\n",
    "LL828 = 3.4\n",
    "condition_p828 = norm.cdf((UL828-s1_mu+s2_mu)/np.sqrt(s1_std**2/n1 + s2_std**2/n2)) - norm.cdf((LL828-s1_mu+s2_mu)/np.sqrt(s1_std**2/n1 + s2_std**2/n2))\n",
    "print(\"\\nThe probability that the first sample's mean will exceed the second sample's mean by a value between 3.4 and 5.9 is: \", np.round(100*condition_p828, 2),\"%.\\n\", sep=\"\")"
   ]
  },
  {
   "cell_type": "markdown",
   "id": "b871b0ec-f82d-4fec-b45c-371a0f3dc96b",
   "metadata": {},
   "source": [
    "8.42: The scores on a placement test given to college freshmen for the past fie years are approximately normally distributed with a mean of 74 and a variance of 8. Would you consider a variance of 8 to be a valid value of the variance if a random sample of 20 students who take the placement test this year obtain a sample variance value of 20?"
   ]
  },
  {
   "cell_type": "markdown",
   "id": "053d5399-c84e-4261-8aeb-a8e9f051d034",
   "metadata": {},
   "source": [
    "Without even performing the chi-squared test, it is blatantly obvious that this sample is inconsistent with the normal population. A result like this could indicate the presence of two groups within the test, one generating scores trending towards a greater mean and the other towards a lower mean. It would be a good idea to consider these students' different backgrounds at this point to look for the source of these two separate groups."
   ]
  },
  {
   "cell_type": "code",
   "execution_count": 5,
   "id": "24e3ba10-4c6e-4e5e-a294-e3ef94bd17af",
   "metadata": {},
   "outputs": [
    {
     "name": "stdout",
     "output_type": "stream",
     "text": [
      "\n",
      "The calculated Chi squared value is: 47.5\n",
      "\n",
      "The Chi upper limit is: 32.85\n",
      "\n",
      "The Chi lower limit is: 8.91\n",
      "\n",
      "As the calculated value is outside the limit, it is unreasonable to maintain the assumption that the variance is still valid.\n",
      "\n"
     ]
    }
   ],
   "source": [
    "mu842 = 74\n",
    "var842 = 8\n",
    "n842 = 20\n",
    "svar842 = 20\n",
    "chi_val = (n842 - 1)*svar842/var842\n",
    "chi_ll = chi2.ppf(0.025, df=19)\n",
    "chi_ul = chi2.ppf(0.975, df=19)\n",
    "print(\"\\nThe calculated Chi squared value is: \", np.round(chi_val, 2),\n",
    "      \"\\n\\nThe Chi upper limit is: \", np.round(chi_ul, 2),\n",
    "      \"\\n\\nThe Chi lower limit is: \", np.round(chi_ll, 2),\n",
    "      \"\\n\\nAs the calculated value is outside the limit, it is unreasonable to maintain the assumption that the variance is still valid.\\n\", sep=\"\")"
   ]
  },
  {
   "cell_type": "markdown",
   "id": "3f58e430-1acd-49a0-b4d5-c81e2472d04c",
   "metadata": {},
   "source": [
    "8.50: A maker of a certain brand of low-fat cereal bars claims that the average saturated fat content is 0.5 gram. In a random sample of 8 cereal bars of this brand, the saturated fat content was 0.6, 0.7, 0.7, 0.3, 0.4, 0.5, 0.4, and 0.2. Would you agree with the claim? Assume a normal distribution."
   ]
  },
  {
   "cell_type": "code",
   "execution_count": 6,
   "id": "0fa12ec5-362e-48dd-ae5c-a9d31b659acb",
   "metadata": {},
   "outputs": [
    {
     "name": "stdout",
     "output_type": "stream",
     "text": [
      "\n",
      "Because the upper t-limit is: 2.36, and the lower t-limit is: -2.36 and because the calculated t value of: -0.39 falls within that range, there is insufficient evidence to disagree with the claim.\n"
     ]
    }
   ],
   "source": [
    "fat_contents = np.array([0.6, 0.7, 0.7, 0.3, 0.4, 0.5, 0.4, 0.2,])\n",
    "mu850 = 0.5\n",
    "sample_mu850 = mean(fat_contents)\n",
    "n850 = 8\n",
    "std850 = np.std(fat_contents, ddof=1)\n",
    "calc_t = np.sqrt(n850)*(sample_mu850-mu850)/std850\n",
    "ul850 = t.ppf(0.975, 7)\n",
    "ll850 = t.ppf(0.025, 7)\n",
    "print(\"\\nBecause the upper t-limit is: \", np.round(ul850, 2), \", and the lower t-limit is: \", \n",
    "      np.round(ll850, 2), \" and because the calculated t value of: \", np.round(calc_t, 2), \n",
    "      \" falls within that range, there is insufficient evidence to disagree with the claim.\", sep=\"\")"
   ]
  }
 ],
 "metadata": {
  "kernelspec": {
   "display_name": "Python 3 (ipykernel)",
   "language": "python",
   "name": "python3"
  },
  "language_info": {
   "codemirror_mode": {
    "name": "ipython",
    "version": 3
   },
   "file_extension": ".py",
   "mimetype": "text/x-python",
   "name": "python",
   "nbconvert_exporter": "python",
   "pygments_lexer": "ipython3",
   "version": "3.10.6"
  }
 },
 "nbformat": 4,
 "nbformat_minor": 5
}
