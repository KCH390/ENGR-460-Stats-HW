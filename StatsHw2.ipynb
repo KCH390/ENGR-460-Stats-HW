{
 "cells": [
  {
   "cell_type": "code",
   "execution_count": 1,
   "id": "8f263dc1-960b-41d5-b5ef-70a496b2b3ed",
   "metadata": {},
   "outputs": [],
   "source": [
    "#All code present was constructed by and is the explicit property of Kerry Hall. \n",
    "#Problems and datasets sourced from \"Probability and Statistics for Engineers and Scientists\" by Walpole, Myers, Myers, and Ye, 9th ed.\n",
    "import numpy as np\n",
    "import scipy as sc"
   ]
  },
  {
   "cell_type": "markdown",
   "id": "42b90ccf-d3ec-42b8-a26c-cd37dc86c4b1",
   "metadata": {},
   "source": [
    "Problem set: 3.10, 3.14a, 3.38, 3.46, 3.72a, 3.78, 4.8, 4.10, 4.34, 4.50, 4.68 (find the mean only), 4.72b"
   ]
  },
  {
   "cell_type": "markdown",
   "id": "c92454fc-5c77-4e20-b7a6-83123d73f83e",
   "metadata": {},
   "source": [
    "3.10: P(X = x) = 1/6, x = {1, 2, 3, 4, 5, 6}"
   ]
  },
  {
   "cell_type": "markdown",
   "id": "a96e52f8-c8e0-4703-8244-601c2042ce66",
   "metadata": {},
   "source": [
    "3.14a: The waiting time, in hours, between successive speeders spotted by a radar unit is a continuous random variable with a cumulative distribution function: F(x) = { if x < 0: 0, else: 1 - e^(-8x) }. Find the probability of waiting less than 12 minutes between successive speeders using the cumulative distribution function of X."
   ]
  },
  {
   "cell_type": "code",
   "execution_count": 2,
   "id": "f6016cf7-1d12-4461-abf2-4facbff11ad1",
   "metadata": {},
   "outputs": [
    {
     "name": "stdout",
     "output_type": "stream",
     "text": [
      "The probability that a speeder will be caught at least every 12 minutes is: 79.81%\n"
     ]
    }
   ],
   "source": [
    "def cumulative_distribution_function(x): return (1-np.exp(-8*x))\n",
    "\n",
    "integral_upper_bound = 12/60 # This is the conversion between min and hours\n",
    "integral_lower_bound = 0\n",
    "probability_that_a_speeder_will_be_caught_at_least_every_12_minutes_is_ = cumulative_distribution_function(integral_upper_bound)-cumulative_distribution_function(integral_lower_bound)\n",
    "print(\"The probability that a speeder will be caught at least every 12 minutes is: \", np.round(probability_that_a_speeder_will_be_caught_at_least_every_12_minutes_is_, 4)*100,\"%\",sep=\"\")"
   ]
  },
  {
   "cell_type": "markdown",
   "id": "f1349787-d86c-473a-919b-2d2ab47a0f6f",
   "metadata": {},
   "source": [
    "3.38: If the joint probability distribution of X and Y is given by f(x,y) (defined below), find (a) P( X <= 2, Y = 1), (b) P( X > 2, Y <= 1), (c) P( X > Y ), (d) P( X + Y = 4)"
   ]
  },
  {
   "cell_type": "code",
   "execution_count": 3,
   "id": "5ef211cf-0a50-4f64-8d78-2c00ed2d0597",
   "metadata": {},
   "outputs": [
    {
     "name": "stdout",
     "output_type": "stream",
     "text": [
      "The probability combination table with x on the horizontal and y on the vertical is:\n",
      "\n",
      "0.0, 0.033, 0.067, 0.1, \n",
      "0.033, 0.067, 0.1, 0.133, \n",
      "0.067, 0.1, 0.133, 0.167, \n",
      "\n",
      "Condition (a) has a probability of: 0.2\n",
      "Condition (b) has a probability of: 0.233\n",
      "Condition (c) has a probability of: 0.6\n",
      "Condition (d) has a probability of: 0.266\n"
     ]
    }
   ],
   "source": [
    "def f(x,y): return (x+y)/30\n",
    "probability_space = [] # a list of probability tuples\n",
    "print(\"The probability combination table with x on the horizontal and y on the vertical is:\")\n",
    "\n",
    "for y in range(3):\n",
    "    print()\n",
    "    for x in range(4):\n",
    "        print(np.round(f(x,y),3),end=\", \")\n",
    "        probability_space.append(( x, y, np.round(f(x,y),3))) # A tuple containing (x,y,f(x,y))\n",
    "\n",
    "print(\"\\n\")\n",
    "a_chance = 0\n",
    "b_chance = 0\n",
    "c_chance = 0\n",
    "d_chance = 0\n",
    "for combination in probability_space:\n",
    "    if combination[0] <= 2 and combination[1] == 1: a_chance += combination[2] # This is the condition:outcome for (a)\n",
    "    if combination[0] > 2 and combination[1] <= 1: b_chance += combination[2]  # This is the condition:outcome for (b)\n",
    "    if combination[0] > combination[1]: c_chance += combination[2]             # This is the condition:outcome for (c)\n",
    "    if combination[0] + combination[1] == 4: d_chance += combination[2]        # This is the condition:outcome for (d)\n",
    "    \n",
    "print(\"Condition (a) has a probability of: \" + str(a_chance), \n",
    "      \"Condition (b) has a probability of: \" + str(b_chance), \n",
    "      \"Condition (c) has a probability of: \" + str(np.round(c_chance, 2)), # Getting garbage float memory here so have to round\n",
    "      \"Condition (d) has a probability of: \" + str(d_chance), \n",
    "      sep=\"\\n\")"
   ]
  },
  {
   "cell_type": "markdown",
   "id": "02d73aa5-1820-49b3-b4e6-ea4be8c51d03",
   "metadata": {},
   "source": [
    "3.46 Referring to Exercise 3.38, find (a) the marginal distribution of X; (b) the marginal distribution of Y."
   ]
  },
  {
   "cell_type": "code",
   "execution_count": 4,
   "id": "df1562e8-b9a5-4a56-a25d-e2a801bf3c37",
   "metadata": {},
   "outputs": [
    {
     "name": "stdout",
     "output_type": "stream",
     "text": [
      "\n",
      "The margininal X distribution is:\n",
      "0    1    2    3\n",
      "0.1  0.2  0.3  0.4\n",
      "\n",
      "The margininal Y distribution is:\n",
      "0     1      2  \n",
      "0.2   0.333  0.467\n"
     ]
    }
   ],
   "source": [
    "x_0 = 0\n",
    "x_1 = 0\n",
    "x_2 = 0\n",
    "x_3 = 0\n",
    "y_0 = 0\n",
    "y_1 = 0\n",
    "y_2 = 0\n",
    "for combination in probability_space:\n",
    "    if combination[0] == 0: x_0 += combination[2]\n",
    "    if combination[0] == 1: x_1 += combination[2]\n",
    "    if combination[0] == 2: x_2 += combination[2]\n",
    "    if combination[0] == 3: x_3 += combination[2]\n",
    "    if combination[1] == 0: y_0 += combination[2]\n",
    "    if combination[1] == 1: y_1 += combination[2]\n",
    "    if combination[1] == 2: y_2 += combination[2]\n",
    "print(\"\\nThe margininal X distribution is:\\n0    1    2    3\\n\" \n",
    "      + str(x_0) +\"  \"+ str(x_1) +\"  \"+ str(np.round(x_2,1)) +\"  \"+ str(x_3)+\"\\n\")\n",
    "print(\"The margininal Y distribution is:\\n0     1      2  \\n\" \n",
    "      + str(y_0) +\"   \"+ str(y_1) +\"  \"+ str(np.round(y_2,3)))"
   ]
  },
  {
   "cell_type": "markdown",
   "id": "efc7b583-e624-4e68-bf6b-d0f5bf06e733",
   "metadata": {},
   "source": [
    "3.72a: Passenger congestion is a service problem in airports. Trains are installed within the airport to reduce the congestion. With the use of the train, the time X in minutes that it takes to travel from the main terminal to a particular concourse has the density function below. Show that the function is a valid probability density function."
   ]
  },
  {
   "cell_type": "code",
   "execution_count": 5,
   "id": "036987d8-10d1-4406-baa1-ee4590e34a92",
   "metadata": {},
   "outputs": [
    {
     "name": "stdout",
     "output_type": "stream",
     "text": [
      "Because the total probability (integrated density function) is equal to 100.0%, the provided function is a valid probability density function.\n"
     ]
    }
   ],
   "source": [
    "def density_function(x): \n",
    "    if x >= 0 and x <= 10: return 1/10\n",
    "    else: return 0\n",
    "#sc.integrate.quad is the quad function from the FORTRAN QUADPACK library and serves as the integration function for the imported SciPy Library\n",
    "total_probability_value = np.round(sc.integrate.quad(density_function,0,10)[0], 2) # rounding because Python doesn't take care of garbage memory\n",
    "print(\"Because the total probability (integrated density function) is equal to \" + str(total_probability_value*100) + \"%, the provided function is a valid probability density function.\")"
   ]
  },
  {
   "cell_type": "markdown",
   "id": "db759e1f-8c05-477c-98fc-3ad6628f7df4",
   "metadata": {},
   "source": [
    "3.78: The behavior of series of components plays a huge role in scientific and engineering reliability problems. The reliability of the entire system is certainly no better than that of the weakest component in the series, In a series system, the components operate independently of each other. In a particular system containing three components, the probabilities of meeting specifications for components 1, 2, and 3, respectively, are 0.95, 0.99, and 0.92. What is the probability that the entire system works?"
   ]
  },
  {
   "cell_type": "code",
   "execution_count": 6,
   "id": "2cba7c7f-5bd6-4690-a8af-6037fee8d8b5",
   "metadata": {},
   "outputs": [
    {
     "name": "stdout",
     "output_type": "stream",
     "text": [
      "The probability that the system works is: 86.53%.\n"
     ]
    }
   ],
   "source": [
    "probability_that_the_system_works = 0.99*0.95*0.92\n",
    "print(\"The probability that the system works is: \" + str(np.round(100*probability_that_the_system_works, 2))+\"%.\")"
   ]
  },
  {
   "cell_type": "markdown",
   "id": "1c101bc6-9a14-497a-9b30-aae1aea0fdd5",
   "metadata": {},
   "source": [
    "4.8: Suppose that an antique jewelry dealer is interested in purchasing a gold necklace for which the probabilities are 0.22, 0.36, 0.28, and 0.14, respectively, that she will be able to sell it for a profit of 250, a profit of 150, break even, or sell it at a loss of 150. What is her expected profit($)?"
   ]
  },
  {
   "cell_type": "code",
   "execution_count": 7,
   "id": "523f91a2-da6f-4028-ac57-afc7103fc8b9",
   "metadata": {},
   "outputs": [
    {
     "name": "stdout",
     "output_type": "stream",
     "text": [
      "The expected profit is: $88\n"
     ]
    }
   ],
   "source": [
    "expected_profit = 0.22*250 + 0.36*150 + 0.28*0 - 0.14*150\n",
    "print(\"The expected profit is: $\" + str(int(expected_profit)))"
   ]
  },
  {
   "cell_type": "markdown",
   "id": "45a00e31-592b-418a-bc79-97e070c62376",
   "metadata": {},
   "source": [
    "4.10: Two tire-quality experts examine stacks of tires and assign a quality rating to each tire on a 3-point scale. Let X denote the rating given by expert A and Y denote the rating given by expert B. The following table gives the joint distribution for X and Y. Find mu_X and mu_Y. "
   ]
  },
  {
   "cell_type": "code",
   "execution_count": 8,
   "id": "715bd6cc-c646-4362-9621-9970273a1d8e",
   "metadata": {},
   "outputs": [
    {
     "name": "stdout",
     "output_type": "stream",
     "text": [
      "The expected rating of quality expert A is: 2.16 \n",
      "The expected rating of quality expert B is: 2.04\n"
     ]
    }
   ],
   "source": [
    "joint_XY_distribution = [\n",
    "    # yvalues on horizontal, xvalues on vertical\n",
    "    [0.1,  0.05, 0.02],\n",
    "    [0.1,  0.35, 0.05],\n",
    "    [0.03, 0.1,  0.2 ], \n",
    "    \n",
    "                        ]\n",
    "mu_X = 0\n",
    "mu_Y = 0\n",
    "for each in joint_XY_distribution:\n",
    "    mu_X += (joint_XY_distribution.index(each)+1)*sum(each)\n",
    "    # I have to do this in a non-pythonic way due to the nature of the problem and chosen list arrangement.\n",
    "    # I would prefer to imitate the above pythonic way but doing it that way would require flipping the list axes.\n",
    "    # Flipping the axes wouldn't really solve the problem as I'd end up having to flip the current undesireable setup or create a second list variable.\n",
    "    mu_Y += 1*each[0]+2*each[1]+3*each[2]\n",
    "\n",
    "print(\"The expected rating of quality expert A is:\", mu_X, \"\\nThe expected rating of quality expert B is:\", mu_Y)"
   ]
  },
  {
   "cell_type": "markdown",
   "id": "8b222dab-e56b-453d-a62a-5044ec36124a",
   "metadata": {},
   "source": [
    "4.34: Let X be a random variable with the following probability distribution. Find the standard deviation of X."
   ]
  },
  {
   "cell_type": "code",
   "execution_count": 9,
   "id": "8dfb0461-a576-4c15-9a61-38be44281272",
   "metadata": {},
   "outputs": [
    {
     "name": "stdout",
     "output_type": "stream",
     "text": [
      "The standard deviation is: 3.041\n"
     ]
    }
   ],
   "source": [
    "X_probability_dist = {\n",
    "    -2:0.3,\n",
    "     3:0.2,\n",
    "     5:0.5,\n",
    "                     }\n",
    "X_mean = -2*X_probability_dist.get(-2) + 3*X_probability_dist.get(3) + 5*X_probability_dist.get(5)\n",
    "variance = 0\n",
    "for each in X_probability_dist: variance += X_probability_dist.get(each)*(each-X_mean)**2 # calculating the variance without a defined function as np.std assumes equally weighted values\n",
    "print(\"The standard deviation is:\", np.round(np.sqrt(variance), 3)) "
   ]
  },
  {
   "cell_type": "markdown",
   "id": "032d1b32-a02f-4ec7-9ef2-5720452d16df",
   "metadata": {},
   "source": [
    "4.50: For a laboratory assignment, if the equipment is working, the density function of the observed outcome X is the function below. Find the variance and standard deviation of X."
   ]
  },
  {
   "cell_type": "code",
   "execution_count": 10,
   "id": "4a7acbba-8930-4000-aabf-e3f20bef861e",
   "metadata": {},
   "outputs": [
    {
     "name": "stdout",
     "output_type": "stream",
     "text": [
      "The variance of X is: 0.05556 \n",
      "The standard deviation of X is: 0.2357\n"
     ]
    }
   ],
   "source": [
    "def lab_probability_density_func(x, pow):\n",
    "    if x > 0 and x < 1: return 2*(1-x)*x**pow\n",
    "    else: return 0\n",
    "mu_450 = (sc.integrate.quad(lab_probability_density_func,0,1,args=(1,))[0])\n",
    "variance_450 = sc.integrate.quad(lab_probability_density_func,0,1,args=(2,))[0] - mu_450**2\n",
    "SD_450 = np.sqrt(variance_450)\n",
    "print(\"The variance of X is:\", np.round(variance_450, 5), \"\\nThe standard deviation of X is:\", np.round(SD_450, 4))"
   ]
  },
  {
   "cell_type": "markdown",
   "id": "020d739c-d42e-49c7-b40b-f4954750105f",
   "metadata": {},
   "source": [
    "4.68(mean): The power P in watts which is dissipated in an electric circuit with resistance R is given by P = I^2R, where I is current in amperes and R is a constant fixed at 50 ohms. However, I is a random variable with mean mu_I = 15 amps and variance = 0.03 amps^2. Give numerical approximations to the mean of the power P."
   ]
  },
  {
   "cell_type": "code",
   "execution_count": 11,
   "id": "6f1da749-f5c5-49cc-b466-90a93ce22e5c",
   "metadata": {},
   "outputs": [
    {
     "name": "stdout",
     "output_type": "stream",
     "text": [
      "The numerical approximation of the mean power is: 11.25 kilowatts.\n",
      "This indicates that the variance can basically be ignored in the power calculation as it gets chopped during rounding anyways.\n",
      "Four orders of magnitude difference tend to indicate relative insignificance.\n"
     ]
    }
   ],
   "source": [
    "mu_power = 50*(15**2 + 0.03)\n",
    "print(\"The numerical approximation of the mean power is:\", np.round(mu_power/1000, 2), \"kilowatts.\")\n",
    "print(\"This indicates that the variance can basically be ignored in the power calculation as it gets chopped during rounding anyways.\\nFour orders of magnitude difference tend to indicate relative insignificance.\")"
   ]
  },
  {
   "cell_type": "markdown",
   "id": "edc811ab-dd67-4402-8df5-214439fc092a",
   "metadata": {},
   "source": [
    "4.72b: A manufacturing company has developed a machine for cleaning carpet that is fuel-efficient because it delivers carpet cleaner so rapidly. Of interest is a random variable Y, the amount of gallons per minute delivered. The known density function is given below. Give E(Y), E(Y^2), and Var(Y)."
   ]
  },
  {
   "cell_type": "code",
   "execution_count": 12,
   "id": "8bf45df7-623d-431c-87ee-2b85fdb4d0d2",
   "metadata": {},
   "outputs": [
    {
     "name": "stdout",
     "output_type": "stream",
     "text": [
      "E(Y) = 7.500000000000001 , E(Y^2) = 56.333333333333336 , Var(Y) = 0.08333333333332149\n"
     ]
    }
   ],
   "source": [
    "def density_function_472(x, pow):\n",
    "    if x >= 7 and x <= 8: return 1*x**pow\n",
    "    else: return 0\n",
    "E_Y = sc.integrate.quad(density_function_472, 7, 8, (1,))[0]\n",
    "E_Y2 = sc.integrate.quad(density_function_472, 7, 8, (2,))[0]\n",
    "Var_Y = E_Y2 - E_Y**2\n",
    "print(\"E(Y) =\", E_Y, \", E(Y^2) =\", E_Y2, \", Var(Y) =\", Var_Y)"
   ]
  }
 ],
 "metadata": {
  "kernelspec": {
   "display_name": "Python 3 (ipykernel)",
   "language": "python",
   "name": "python3"
  },
  "language_info": {
   "codemirror_mode": {
    "name": "ipython",
    "version": 3
   },
   "file_extension": ".py",
   "mimetype": "text/x-python",
   "name": "python",
   "nbconvert_exporter": "python",
   "pygments_lexer": "ipython3",
   "version": "3.10.5"
  }
 },
 "nbformat": 4,
 "nbformat_minor": 5
}
