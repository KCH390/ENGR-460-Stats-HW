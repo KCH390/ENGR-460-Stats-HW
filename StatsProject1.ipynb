{
 "cells": [
  {
   "cell_type": "code",
   "execution_count": 1,
   "id": "dc285bb2-67a4-4390-9a0b-b56f7fe5dd54",
   "metadata": {},
   "outputs": [],
   "source": [
    "#All code present was constructed by and is the explicit property of Kerry Hall. \n",
    "#Data and conclusions belong to Nick Mitchell, Chris Zhang, Zachary Stoll, Alejandro Cogollo, and Kerry Hall\n",
    "\n",
    "# bringing in plotting libraries\n",
    "%matplotlib inline \n",
    "import matplotlib.pyplot as plt # renaming a specific plot object\n",
    "\n",
    "from numpy import round # decimal rounding function\n",
    "import pandas as pd # table (dataframe) manipulation library"
   ]
  },
  {
   "cell_type": "code",
   "execution_count": 2,
   "id": "9d03790b-135a-4090-a332-3d5dc5f13096",
   "metadata": {},
   "outputs": [
    {
     "data": {
      "text/html": [
       "<div>\n",
       "<style scoped>\n",
       "    .dataframe tbody tr th:only-of-type {\n",
       "        vertical-align: middle;\n",
       "    }\n",
       "\n",
       "    .dataframe tbody tr th {\n",
       "        vertical-align: top;\n",
       "    }\n",
       "\n",
       "    .dataframe thead th {\n",
       "        text-align: right;\n",
       "    }\n",
       "</style>\n",
       "<table border=\"1\" class=\"dataframe\">\n",
       "  <thead>\n",
       "    <tr style=\"text-align: right;\">\n",
       "      <th></th>\n",
       "      <th>Count</th>\n",
       "      <th>Frequency%</th>\n",
       "    </tr>\n",
       "  </thead>\n",
       "  <tbody>\n",
       "    <tr>\n",
       "      <th>Red</th>\n",
       "      <td>9</td>\n",
       "      <td>4.52</td>\n",
       "    </tr>\n",
       "    <tr>\n",
       "      <th>Blue</th>\n",
       "      <td>13</td>\n",
       "      <td>6.53</td>\n",
       "    </tr>\n",
       "    <tr>\n",
       "      <th>Brown</th>\n",
       "      <td>20</td>\n",
       "      <td>10.05</td>\n",
       "    </tr>\n",
       "    <tr>\n",
       "      <th>Other</th>\n",
       "      <td>40</td>\n",
       "      <td>20.10</td>\n",
       "    </tr>\n",
       "    <tr>\n",
       "      <th>White</th>\n",
       "      <td>44</td>\n",
       "      <td>22.11</td>\n",
       "    </tr>\n",
       "    <tr>\n",
       "      <th>Black</th>\n",
       "      <td>73</td>\n",
       "      <td>36.68</td>\n",
       "    </tr>\n",
       "  </tbody>\n",
       "</table>\n",
       "</div>"
      ],
      "text/plain": [
       "       Count  Frequency%\n",
       "Red        9        4.52\n",
       "Blue      13        6.53\n",
       "Brown     20       10.05\n",
       "Other     40       20.10\n",
       "White     44       22.11\n",
       "Black     73       36.68"
      ]
     },
     "execution_count": 2,
     "metadata": {},
     "output_type": "execute_result"
    }
   ],
   "source": [
    "# Dictionaries are pythonic maps, used here over lists/tuples because it is more readable\n",
    "shoe_data_dict = {\n",
    "    \"Red\"  : 9,\n",
    "    \"Blue\" : 13,\n",
    "    \"Brown\": 20,\n",
    "    \"Other\": 40,\n",
    "    \"White\": 44,\n",
    "    \"Black\": 73,\n",
    "} \n",
    "shoe_data = pd.DataFrame.from_dict(shoe_data_dict, orient='index',columns=[\"Count\"],) # Making the table\n",
    "shoe_data[\"Frequency%\"] = round(100*shoe_data.Count/sum(list(shoe_data_dict.values())), 2) # adding the Frequency column\n",
    "shoe_data.head(10) # printing the table"
   ]
  },
  {
   "cell_type": "markdown",
   "id": "98297cc4-e88a-41df-945f-501c14e9de7c",
   "metadata": {},
   "source": [
    "The probability distribution indicates that the most likely shoe color to be encountered around campus is black. This can be visualized with the figure below."
   ]
  },
  {
   "cell_type": "markdown",
   "id": "f28fdb7c-2d42-49cc-b1bb-91b54a76f8b1",
   "metadata": {},
   "source": [
    "The probability that someone will be wearing red or white shoes is approximately 25.6% ( P(R) + P(~R) \\* P(W) )."
   ]
  },
  {
   "cell_type": "code",
   "execution_count": 3,
   "id": "2e1a1f72-672b-4186-a56e-8b622b745276",
   "metadata": {},
   "outputs": [
    {
     "data": {
      "image/png": "[encoded data removed]",
      "text/plain": [
       "<Figure size 864x648 with 1 Axes>"
      ]
     },
     "metadata": {
      "needs_background": "light"
     },
     "output_type": "display_data"
    }
   ],
   "source": [
    "fig, ax = plt.subplots(figsize=(12,9)) # initialization\n",
    "ax.bar(shoe_data.index, (shoe_data.Count)/sum(list(shoe_data.Count)), edgecolor='black',color=[\"#ff0000\",\"#0000FF\",\"#964B00\",\"#00FF00\",\"#FFFFFF\",\"#000000\"]) #construction of a bar plot\n",
    "plt.xticks(range(0,len(shoe_data.index)), list(shoe_data.index),fontsize=22) # using text labels for each column over default numeric index\n",
    "ax.set_ylabel(\"Frequency Fraction\",fontsize=20) # Labeling\n",
    "plt.title(\"Relative Shoe Color Frequency\",fontsize=20) # Labeling\n",
    "plt.show() # printing"
   ]
  }
 ],
 "metadata": {
  "kernelspec": {
   "display_name": "Python 3 (ipykernel)",
   "language": "python",
   "name": "python3"
  },
  "language_info": {
   "codemirror_mode": {
    "name": "ipython",
    "version": 3
   },
   "file_extension": ".py",
   "mimetype": "text/x-python",
   "name": "python",
   "nbconvert_exporter": "python",
   "pygments_lexer": "ipython3",
   "version": "3.10.6"
  }
 },
 "nbformat": 4,
 "nbformat_minor": 5
}
