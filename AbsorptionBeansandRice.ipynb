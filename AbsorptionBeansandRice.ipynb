{
 "cells": [
  {
   "cell_type": "code",
   "execution_count": 1,
   "id": "24386327-afab-48cb-b6c4-a7148fbc484b",
   "metadata": {
    "tags": []
   },
   "outputs": [],
   "source": [
    "#All code present was constructed by and is the explicit property of Kerry Hall.\n",
    "#Problems from Unit Operations Homework file.\n",
    "import numpy as np"
   ]
  },
  {
   "cell_type": "markdown",
   "id": "5faf5450-b890-46f1-b3bc-c2a606b6645c",
   "metadata": {},
   "source": [
    "1)Determine the difference between mass, mole and volume fractions.\n",
    "\n",
    "a.\tFor this exercise, you will select a quantity of each of the materials provided, and determine their mole fraction and mass fraction.  For this exercise, each seed (black bean/Navy bean /Rice) is one mole each.\n",
    "\n",
    "b.\tMake sure to detail how you came to your conclusions.\n",
    "\n",
    "c.\tDescribe how you would determine the volume fraction."
   ]
  },
  {
   "cell_type": "code",
   "execution_count": 2,
   "id": "8efda85c-2f5d-42cc-bba5-944c63fd9c2d",
   "metadata": {},
   "outputs": [],
   "source": [
    "# uniformity assumption present here\n",
    "BLACK_BEANS_per_g = 5\n",
    "RICE_GRAINS_per_g = 77\n",
    "NAVY_BEANS_per_g = 6 "
   ]
  },
  {
   "cell_type": "code",
   "execution_count": 3,
   "id": "b884b754-509f-4f3a-8ed3-40f9987f6606",
   "metadata": {},
   "outputs": [
    {
     "name": "stdout",
     "output_type": "stream",
     "text": [
      "\n",
      "The mole fraction of black beans is: 0.0568\n",
      "\n",
      "The mole fraction of rice grains is: 0.875\n",
      "\n",
      "The mole fraction of navy beans is: 0.0682\n",
      "\n"
     ]
    }
   ],
   "source": [
    "bean_array = np.array([BLACK_BEANS_per_g, RICE_GRAINS_per_g, NAVY_BEANS_per_g])\n",
    "#small optimization change made here from original code\n",
    "TOTAL_MOL = sum(bean_array) \n",
    "\n",
    "#calculating each based on 1g basis chosen above\n",
    "molfracs = np.round(bean_array/TOTAL_MOL, 4)\n",
    "\n",
    "massfrac = 1/3 # equal for each due to 1g basis chosen\n",
    "\n",
    "print(\"\\nThe mole fraction of black beans is: \", molfracs[0], \"\\n\",\n",
    "      \"\\nThe mole fraction of rice grains is: \", molfracs[1], \"\\n\",\n",
    "      \"\\nThe mole fraction of navy beans is: \", molfracs[2], \"\\n\", sep=\"\")"
   ]
  },
  {
   "cell_type": "markdown",
   "id": "f1c23b42-5baa-40e0-8bd7-9a2ec4cb3dc2",
   "metadata": {},
   "source": [
    "To obtain volume fractions, I would first find the volume of each species. This could be accomplished with a low density fluid (ARCHIMEDES!). The displacement could be measured on a per item basis, which could in turn be applied to determine the volume fractions of each species."
   ]
  },
  {
   "cell_type": "markdown",
   "id": "a61e95dd-a636-4fc8-a836-73a50b7b22e1",
   "metadata": {},
   "source": [
    "2)Simulate a flash drum.\n",
    "\n",
    "a.\tSelect a basis (hint, make sure you chose small quantities, as molar basis is required) for two different types of food.\n",
    "\n",
    "b.\tDetermine which is your light key (more volatile) and heavy key (less volatile).\n",
    "\n",
    "c.\tDetermine the overall flow rates and molar fractions of each stream (hint – overall and component mass / mol balance).\n",
    "\n",
    "d.\tCalculate the yield for your flash."
   ]
  },
  {
   "cell_type": "code",
   "execution_count": 4,
   "id": "7af3a85a-fd78-459a-8684-057c982c902a",
   "metadata": {},
   "outputs": [
    {
     "name": "stdout",
     "output_type": "stream",
     "text": [
      "\n",
      "The feed basis chosen was: 11 mol/time\n",
      "\n",
      "The mol fractions for the feed are: [0.45454545 0.54545455] = [black beans, navy beans]\n",
      "\n",
      "The heavier compound (LVC) is black beans, and the lighter compound is navy beans (MVC).\n",
      "\n",
      "The vapor stream was chosen to be greater than the liquid stream at 6 mol/time vs 5 mol/time.\n",
      "\n",
      "Assuming that the desired separate compound was the navy beans, the yield is: 66.67%.\n",
      "\n"
     ]
    }
   ],
   "source": [
    "basis = BLACK_BEANS_per_g + NAVY_BEANS_per_g # 2g of flow per unit time\n",
    "feed_fracs = np.array([BLACK_BEANS_per_g/basis, NAVY_BEANS_per_g/basis])\n",
    "LVC = basis*feed_fracs[0] # Heavier compound\n",
    "MVC = basis*feed_fracs[1] # Lighter compound\n",
    "vapor_out = 6 # mol/time, Assume greater gas out than liquid due to MVC/LVC > LVC/MVC\n",
    "liquid_out = 5 # mol/time\n",
    "vapor_stream = vapor_out * np.array([1/3, 2/3]) # mol fractions contained in array\n",
    "liquid_stream = liquid_out * np.array([3/5, 2/5]) # mol fractions contained in array\n",
    "print(\"\\nThe feed basis chosen was: \", basis, \n",
    "      \" mol/time\\n\\nThe mol fractions for the feed are: \", feed_fracs, \n",
    "      \" = [black beans, navy beans]\\n\\nThe heavier compound (LVC) is black beans, and the lighter compound is navy beans (MVC).\",\n",
    "      \"\\n\\nThe vapor stream was chosen to be greater than the liquid stream at \", vapor_out,\" mol/time vs \", liquid_out, \" mol/time.\",\n",
    "      \"\\n\\nAssuming that the desired separate compound was the navy beans, the yield is: \", np.round(100*vapor_stream[1]/(basis*feed_fracs[1]),2), \"%.\\n\",sep=\"\")"
   ]
  },
  {
   "cell_type": "markdown",
   "id": "15eed32c-bda5-4eaf-9da5-dc9650181ed2",
   "metadata": {},
   "source": [
    "3)Simulate absorption and mole ratio – for this exercise, you simulate an absorption column.  The black beans are pure water coming into the top of the absorber.  The rice grains are the carrier gas (‘air’), and the Navy Beans are the CO2.  Using a basis for the liquid flow of 25 moles of water (black beans) and vapor of 60 moles  (rice grains), select an initial concentration of navy beans to rice (navy beans needs to be below 20 mol%), “recover” at least 90% (by moles) of the CO2 (navy beans).\n",
    "\n",
    "a.\tCalculate the mass and mole fractions of each stream\n",
    "\n",
    "b.\tCalculate the mole ratio of each stream.\n"
   ]
  },
  {
   "cell_type": "code",
   "execution_count": 5,
   "id": "6d8c70e4-ee38-4e7f-88f0-3d87f47cd87b",
   "metadata": {},
   "outputs": [
    {
     "name": "stdout",
     "output_type": "stream",
     "text": [
      "\n",
      "All mole/mass fraction arrays written in form: \"[inert, species moved]\"\n",
      "\n",
      "The mole fractions of the liquid outflow are: [0.73529 0.26471]\n",
      "\n",
      "The mole fractions of the liquid inflow are: [1 0]\n",
      "\n",
      "The mole fractions of the gas inflow are: [0.85714 0.14286]\n",
      "\n",
      "The mole fractions of the gas outflow are: [0.98361 0.01639]\n",
      "\n",
      "The mass fractions of the liquid outflow are: [0.76923077 0.23076923]\n",
      "\n",
      "The mass fractions of the liquid inflow are: [1 0]\n",
      "\n",
      "The mass fractions of the gas inflow are: [0.31858407 0.68141593]\n",
      "\n",
      "The mass fractions of the gas outflow are: [0.82379863 0.17620137]\n",
      "\n",
      "The mole ratios for each stream are (inert:species moved): 25 : 0 (La), 60 : 10 (Gb), 60 : 1.0 (Ga), 25 : 9.0 (Lb).\n"
     ]
    }
   ],
   "source": [
    "fraction_absorbed = 0.9\n",
    "inert_gas = 60 # rice grains\n",
    "moving_species = 10 # navy beans, 15 is the max value based on problem specified limit at 20 mol%, 10 chosen over 15 because it is easy to take 90% of ten\n",
    "\n",
    "La = 25 # black beans\n",
    "Gb = inert_gas + moving_species \n",
    "Ga = inert_gas + (1-fraction_absorbed)*moving_species\n",
    "Lb = La + Gb - Ga # assuming steady state here\n",
    "\n",
    "Lax = np.array([1, 0]) # [black beans, navy beans], pure black bean stream\n",
    "Lbx = np.round(np.array([La/Lb, 1-La/Lb]), 5) # [black beans, navy beans]\n",
    "Gby = np.round(np.array([inert_gas/Gb, 1-inert_gas/Gb]), 5) # [rice grains, navy beans]\n",
    "Gay = np.round(np.array([inert_gas/Ga, 1-inert_gas/Ga]), 5) # [rice grains, navy beans]\n",
    "\n",
    "inert_gas_mass = inert_gas/RICE_GRAINS_per_g\n",
    "moving_species_mass = moving_species/NAVY_BEANS_per_g\n",
    "liquid_mass = La/BLACK_BEANS_per_g\n",
    "\n",
    "Lam = np.array([1, 0]) # [black beans, navy beans], pure black bean stream\n",
    "\n",
    "Lbm = np.array([liquid_mass/(liquid_mass+fraction_absorbed*moving_species_mass), \n",
    "                fraction_absorbed*moving_species_mass/(liquid_mass+fraction_absorbed*moving_species_mass)]) # [black beans, navy beans]\n",
    "\n",
    "Gbm = np.array([inert_gas_mass/(inert_gas_mass+moving_species_mass),\n",
    "                moving_species_mass/(inert_gas_mass+moving_species_mass)]) # [rice grains, navy beans] \n",
    "\n",
    "Gam = np.array([inert_gas_mass/(inert_gas_mass+(1-fraction_absorbed)*moving_species_mass), \n",
    "                (1-fraction_absorbed)*moving_species_mass/(inert_gas_mass+(1-fraction_absorbed)*moving_species_mass)])# [rice grains, navy beans]\n",
    "\n",
    "print(\"\\nAll mole/mass fraction arrays written in form: \\\"[inert, species moved]\\\"\",\n",
    "      \"The mole fractions of the liquid outflow are: \" + str(Lbx), \n",
    "      \"The mole fractions of the liquid inflow are: \" + str(Lax), \n",
    "      \"The mole fractions of the gas inflow are: \" + str(Gby), \n",
    "      \"The mole fractions of the gas outflow are: \" + str(Gay),\n",
    "      \"The mass fractions of the liquid outflow are: \" + str(Lbm), \n",
    "      \"The mass fractions of the liquid inflow are: \" + str(Lam), \n",
    "      \"The mass fractions of the gas inflow are: \" + str(Gbm), \n",
    "      \"The mass fractions of the gas outflow are: \" + str(Gam), \n",
    "      \"The mole ratios for each stream are (inert:species moved): \" + str(La) + \" : 0 (La), \" \n",
    "                                                                    + str(inert_gas) + \" : \" + str(moving_species) + \" (Gb), \" \n",
    "                                                                    + str(inert_gas) + \" : \" + str(np.round(moving_species*(1-fraction_absorbed), 0)) + \" (Ga), \" \n",
    "                                                                    + str(La) + \" : \" + str(moving_species*fraction_absorbed) + \" (Lb).\", sep=\"\\n\\n\")"
   ]
  }
 ],
 "metadata": {
  "kernelspec": {
   "display_name": "Python 3 (ipykernel)",
   "language": "python",
   "name": "python3"
  },
  "language_info": {
   "codemirror_mode": {
    "name": "ipython",
    "version": 3
   },
   "file_extension": ".py",
   "mimetype": "text/x-python",
   "name": "python",
   "nbconvert_exporter": "python",
   "pygments_lexer": "ipython3",
   "version": "3.10.6"
  }
 },
 "nbformat": 4,
 "nbformat_minor": 5
}
